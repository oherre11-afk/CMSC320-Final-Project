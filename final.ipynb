{
 "cells": [
  {
   "cell_type": "markdown",
   "id": "abd178e9-48f1-4605-9960-0c914d23ac55",
   "metadata": {},
   "source": [
    "<h1> What CS field maximizes your potential for salary growth? </h1>\n",
    "    by Almamy Bah and Oscar Herrera\n",
    "    \n",
    "<h2> Introduction </h2> \n",
    "\n",
    "Many students go into the job market after graduation without having much information on how much they can potentially earn with the knowledge they have acquired during their undergrad. This is also the case for a lot of computer science students who don't have a clear idea of what path to follow. One of the biggest factors about finding a new job is the salary. There are many paths a computer science new grad can take such as data science, cyber security, software engineering, etc. Our goal is to give those students the best financial options when it comes to choosing their path. \n",
    "    \n",
    "Using the data science pipeline we will come up with ways on how to maximize your salary and get the most income out of your degree. The data we will use was pulled from 62,000 salary records from top companies such as Facebook, Amazon, Apple, Netflix and Google.\n",
    "If interested, you can find the data set <a href =https://www.kaggle.com/datasets/jackogozaly/data-science-and-stem-salaries)> here </a> we will analyze this data to find the average salary for different companies according to the job title, level and years of experience to give you an idea of which job title will pay the most overtime . We will also take a look at salary by location to find out which states they can get the most money with their degree.\n",
    "\n",
    "Correlation (Title/role type average salary and year of experience)\n",
    "Find out how much each position gonna keep increasing over time\n"
   ]
  },
  {
   "cell_type": "code",
   "execution_count": null,
   "id": "dea45bb8-4b15-49d0-bb4d-e2896db7cf9b",
   "metadata": {},
   "outputs": [],
   "source": []
  }
 ],
 "metadata": {
  "kernelspec": {
   "display_name": "Python 3 (ipykernel)",
   "language": "python",
   "name": "python3"
  },
  "language_info": {
   "codemirror_mode": {
    "name": "ipython",
    "version": 3
   },
   "file_extension": ".py",
   "mimetype": "text/x-python",
   "name": "python",
   "nbconvert_exporter": "python",
   "pygments_lexer": "ipython3",
   "version": "3.10.8"
  }
 },
 "nbformat": 4,
 "nbformat_minor": 5
}
