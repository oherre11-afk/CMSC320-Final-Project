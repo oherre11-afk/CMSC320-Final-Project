{
 "cells": [
  {
   "cell_type": "markdown",
   "id": "abd178e9-48f1-4605-9960-0c914d23ac55",
   "metadata": {},
   "source": [
    "<h1> What CS field maximizes your potential for salary growth? </h1>\n",
    "    by Almamy Bah and Oscar Herrera\n",
    "    \n",
    "<h2> Introduction </h2> \n",
    "\n",
    "After graduating, a sizable percentage of undergraduate students join the workforce without having a basic understanding of the earning potential of their learned talents. This is especially true for those studying computer science who aren't sure what career path to take. It is crucial that these students have access to trustworthy information about the financial possibilities for various career pathways, including data science, cyber security, and software engineering, as compensation is one of the most crucial aspects in employment selection.\n",
    "By using the data science pipeline to examine the available data, our goal is to give computer science students the greatest financial options possible. Through an examination of average pay for various job titles, degrees of expertise, and organizations, we will look into how to maximize their earning potential. Furthermore, by investigating which states offer the best incomes for a certain degree, we will examine how geography influences income. We will also look at non-job-related variables like ethnicity, gender, and educational attainment that could have an ongoing impact on income.\n",
    "By providing comprehensive and accurate information, our aim is to assist computer science students in making informed decisions about their future career paths and maximizing their earning potential. Ultimately, we believe that this will help to create a more equitable and prosperous job market for all computer science graduates.\n"
   ]
  },
  {
   "cell_type": "markdown",
   "id": "2a1eaa90-deac-4d57-a4b7-877d3da77900",
   "metadata": {},
   "source": [
    "<h1> Data Collection </h1>\n",
    "Data Collection:\n",
    "For this step, we looked for a dataset that is related to the salary of computer science jobs. More specifically, we look into a dataset from Kaggle related to Data Science and Stem Salaries. It contains more than 62,000 salary records from top companies. It contains useful data such as gender, race, level of experience, base salary etc… that we think is enough for our tutorial. The data set can be found <a href= https://www.kaggle.com/datasets/jackogozaly/data-science-and-stem-salaries> here </a>.\n",
    "\n",
    "\n"
   ]
  },
  {
   "cell_type": "markdown",
   "id": "17dba0fd-0207-4275-a6e3-ebdc5ef638f2",
   "metadata": {},
   "source": [
    "First we will import the libraries we will use for the project:"
   ]
  },
  {
   "cell_type": "code",
   "execution_count": 14,
   "id": "4c8c1ea1-90ef-48e6-bdb1-0dbc9853b206",
   "metadata": {},
   "outputs": [
    {
     "name": "stdout",
     "output_type": "stream",
     "text": [
      "                timestamp     company     level                         title  \\\n",
      "0       6/7/2017 11:33:27      Oracle        L3               Product Manager   \n",
      "1      6/10/2017 17:11:29        eBay      SE 2             Software Engineer   \n",
      "2      6/11/2017 14:53:57      Amazon        L7               Product Manager   \n",
      "3       6/17/2017 0:23:14       Apple        M1  Software Engineering Manager   \n",
      "4      6/20/2017 10:58:51   Microsoft        60             Software Engineer   \n",
      "...                   ...         ...       ...                           ...   \n",
      "62637   9/9/2018 11:52:32      Google        T4             Software Engineer   \n",
      "62638   9/13/2018 8:23:32   Microsoft        62             Software Engineer   \n",
      "62639  9/13/2018 14:35:59        MSFT        63             Software Engineer   \n",
      "62640  9/16/2018 16:10:35  Salesforce  Lead MTS             Software Engineer   \n",
      "62641   1/29/2019 5:12:59       apple      ict3             Software Engineer   \n",
      "\n",
      "       totalyearlycompensation           location  yearsofexperience  \\\n",
      "0                       127000   Redwood City, CA                1.5   \n",
      "1                       100000  San Francisco, CA                5.0   \n",
      "2                       310000        Seattle, WA                8.0   \n",
      "3                       372000      Sunnyvale, CA                7.0   \n",
      "4                       157000  Mountain View, CA                5.0   \n",
      "...                        ...                ...                ...   \n",
      "62637                   327000        Seattle, WA               10.0   \n",
      "62638                   237000        Redmond, WA                2.0   \n",
      "62639                   220000        Seattle, WA               14.0   \n",
      "62640                   280000  San Francisco, CA                8.0   \n",
      "62641                   200000      Sunnyvale, CA                0.0   \n",
      "\n",
      "       yearsatcompany                             tag  basesalary  ...  \\\n",
      "0                 1.5                             NaN    107000.0  ...   \n",
      "1                 3.0                             NaN         0.0  ...   \n",
      "2                 0.0                             NaN    155000.0  ...   \n",
      "3                 5.0                             NaN    157000.0  ...   \n",
      "4                 3.0                             NaN         0.0  ...   \n",
      "...               ...                             ...         ...  ...   \n",
      "62637             1.0  Distributed Systems (Back-End)    155000.0  ...   \n",
      "62638             2.0                      Full Stack    146900.0  ...   \n",
      "62639            12.0                      Full Stack    157000.0  ...   \n",
      "62640             4.0                             iOS    194688.0  ...   \n",
      "62641             0.0                         ML / AI    155000.0  ...   \n",
      "\n",
      "       Doctorate_Degree  Highschool Some_College Race_Asian  Race_White  \\\n",
      "0                     0           0            0          0           0   \n",
      "1                     0           0            0          0           0   \n",
      "2                     0           0            0          0           0   \n",
      "3                     0           0            0          0           0   \n",
      "4                     0           0            0          0           0   \n",
      "...                 ...         ...          ...        ...         ...   \n",
      "62637                 0           0            0          0           0   \n",
      "62638                 0           0            0          0           0   \n",
      "62639                 0           0            0          0           0   \n",
      "62640                 0           0            0          0           0   \n",
      "62641                 0           0            0          0           0   \n",
      "\n",
      "       Race_Two_Or_More  Race_Black  Race_Hispanic  Race  Education  \n",
      "0                     0           0              0   NaN        NaN  \n",
      "1                     0           0              0   NaN        NaN  \n",
      "2                     0           0              0   NaN        NaN  \n",
      "3                     0           0              0   NaN        NaN  \n",
      "4                     0           0              0   NaN        NaN  \n",
      "...                 ...         ...            ...   ...        ...  \n",
      "62637                 0           0              0   NaN        NaN  \n",
      "62638                 0           0              0   NaN        NaN  \n",
      "62639                 0           0              0   NaN        NaN  \n",
      "62640                 0           0              0   NaN        NaN  \n",
      "62641                 0           0              0   NaN        NaN  \n",
      "\n",
      "[62642 rows x 29 columns]\n"
     ]
    }
   ],
   "source": [
    "import pandas as pd\n",
    "import numpy as np\n",
    "import matplotlib.pyplot as plt\n",
    "\n",
    "db = pd.read_csv(\"final_data.csv\")\n",
    "print(db)"
   ]
  },
  {
   "cell_type": "markdown",
   "id": "3a4d38af-3902-48f4-b7a3-a617c2fdb75c",
   "metadata": {},
   "source": [
    "Next, we will get rid of the columns containing extraneous data for our project"
   ]
  },
  {
   "cell_type": "code",
   "execution_count": 15,
   "id": "e78a2519-f78f-4c59-ad9b-a7bcc742ac9d",
   "metadata": {},
   "outputs": [
    {
     "name": "stdout",
     "output_type": "stream",
     "text": [
      "                timestamp     company     level                         title  \\\n",
      "0       6/7/2017 11:33:27      Oracle        L3               Product Manager   \n",
      "1      6/10/2017 17:11:29        eBay      SE 2             Software Engineer   \n",
      "2      6/11/2017 14:53:57      Amazon        L7               Product Manager   \n",
      "3       6/17/2017 0:23:14       Apple        M1  Software Engineering Manager   \n",
      "4      6/20/2017 10:58:51   Microsoft        60             Software Engineer   \n",
      "...                   ...         ...       ...                           ...   \n",
      "62637   9/9/2018 11:52:32      Google        T4             Software Engineer   \n",
      "62638   9/13/2018 8:23:32   Microsoft        62             Software Engineer   \n",
      "62639  9/13/2018 14:35:59        MSFT        63             Software Engineer   \n",
      "62640  9/16/2018 16:10:35  Salesforce  Lead MTS             Software Engineer   \n",
      "62641   1/29/2019 5:12:59       apple      ict3             Software Engineer   \n",
      "\n",
      "       totalyearlycompensation           location  yearsofexperience  \\\n",
      "0                       127000   Redwood City, CA                1.5   \n",
      "1                       100000  San Francisco, CA                5.0   \n",
      "2                       310000        Seattle, WA                8.0   \n",
      "3                       372000      Sunnyvale, CA                7.0   \n",
      "4                       157000  Mountain View, CA                5.0   \n",
      "...                        ...                ...                ...   \n",
      "62637                   327000        Seattle, WA               10.0   \n",
      "62638                   237000        Redmond, WA                2.0   \n",
      "62639                   220000        Seattle, WA               14.0   \n",
      "62640                   280000  San Francisco, CA                8.0   \n",
      "62641                   200000      Sunnyvale, CA                0.0   \n",
      "\n",
      "       basesalary  stockgrantvalue    bonus gender Race Education  \n",
      "0        107000.0          20000.0  10000.0    NaN  NaN       NaN  \n",
      "1             0.0              0.0      0.0    NaN  NaN       NaN  \n",
      "2        155000.0              0.0      0.0    NaN  NaN       NaN  \n",
      "3        157000.0         180000.0  35000.0    NaN  NaN       NaN  \n",
      "4             0.0              0.0      0.0    NaN  NaN       NaN  \n",
      "...           ...              ...      ...    ...  ...       ...  \n",
      "62637    155000.0         150000.0  22000.0    NaN  NaN       NaN  \n",
      "62638    146900.0          73200.0  16000.0    NaN  NaN       NaN  \n",
      "62639    157000.0          25000.0  20000.0    NaN  NaN       NaN  \n",
      "62640    194688.0          57000.0  29000.0    NaN  NaN       NaN  \n",
      "62641    155000.0          27000.0  19000.0   Male  NaN       NaN  \n",
      "\n",
      "[62642 rows x 13 columns]\n"
     ]
    }
   ],
   "source": [
    "db = db.drop(\"yearsatcompany\", axis=1)\n",
    "db = db.drop(\"tag\", axis=1)\n",
    "db = db.drop(\"cityid\", axis=1)\n",
    "db = db.drop(\"otherdetails\", axis=1)\n",
    "db = db.drop(\"dmaid\", axis=1)\n",
    "db = db.drop(\"rowNumber\", axis=1)\n",
    "db = db.drop(\"Masters_Degree\", axis=1)\n",
    "db = db.drop(\"Bachelors_Degree\", axis=1)\n",
    "db = db.drop(\"Doctorate_Degree\", axis=1)\n",
    "db = db.drop(\"Highschool\", axis=1)\n",
    "db = db.drop(\"Some_College\", axis=1)\n",
    "db = db.drop(\"Race_Asian\", axis=1)\n",
    "db = db.drop(\"Race_White\", axis=1)\n",
    "db = db.drop(\"Race_Two_Or_More\", axis=1)\n",
    "db = db.drop(\"Race_Black\", axis=1)\n",
    "db = db.drop(\"Race_Hispanic\", axis=1)\n",
    "\n",
    "print(db)"
   ]
  },
  {
   "cell_type": "markdown",
   "id": "2785593e-5be6-4868-946c-544d074d0a9f",
   "metadata": {},
   "source": [
    "<h1> Data Processing </h1>\n",
    "\n",
    "Now we will remove rows containing null values for gender and race."
   ]
  },
  {
   "cell_type": "code",
   "execution_count": 30,
   "id": "afacf329-ee67-4421-8496-4b417ed2b4c9",
   "metadata": {},
   "outputs": [
    {
     "name": "stdout",
     "output_type": "stream",
     "text": [
      "                 timestamp   company                level  \\\n",
      "6921     6/1/2019 20:54:48  Facebook                  IC5   \n",
      "8366     7/2/2019 16:43:16     Intel              Grade 7   \n",
      "10937   9/15/2019 20:11:14   Comcast           Engineer 2   \n",
      "11997  10/13/2019 11:43:20     Latch              Manager   \n",
      "14429  12/30/2019 11:16:12    Intuit  Software Engineer 1   \n",
      "...                    ...       ...                  ...   \n",
      "61982    3/9/2021 17:03:07    Google                  L10   \n",
      "61984   3/25/2021 10:45:03    Zapier                   L8   \n",
      "61986   5/14/2021 13:30:43    Amazon                   L8   \n",
      "61987   5/18/2021 15:34:21  Facebook                   D1   \n",
      "61991   7/30/2021 22:23:24  Facebook                   E9   \n",
      "\n",
      "                              title  totalyearlycompensation  \\\n",
      "6921               Product Designer                   310000   \n",
      "8366              Hardware Engineer                   200000   \n",
      "10937             Software Engineer                   103000   \n",
      "11997  Software Engineering Manager                   170000   \n",
      "14429             Software Engineer                   134000   \n",
      "...                             ...                      ...   \n",
      "61982               Product Manager                  4500000   \n",
      "61984  Software Engineering Manager                  1605000   \n",
      "61986  Software Engineering Manager                  1660000   \n",
      "61987  Software Engineering Manager                  2372000   \n",
      "61991               Product Manager                  4980000   \n",
      "\n",
      "                location  yearsofexperience  basesalary  stockgrantvalue  \\\n",
      "6921      Menlo Park, CA                7.0    165000.0         120000.0   \n",
      "8366     Santa Clara, CA               14.0    163000.0          10000.0   \n",
      "10937   Philadelphia, PA                2.0     96000.0           2000.0   \n",
      "11997       New York, NY                6.0    170000.0              0.0   \n",
      "14429  Mountain View, CA                1.0    110000.0          13000.0   \n",
      "...                  ...                ...         ...              ...   \n",
      "61982  San Francisco, CA               20.0    450000.0           3700.0   \n",
      "61984         Denver, CO               16.0    250000.0           1305.0   \n",
      "61986        Seattle, WA               15.0    160000.0           1500.0   \n",
      "61987     Menlo Park, CA               22.0    315000.0           1933.0   \n",
      "61991     Menlo Park, CA               17.0    380000.0           4400.0   \n",
      "\n",
      "          bonus  gender   Race        Education  \n",
      "6921    25000.0  Female  White              NaN  \n",
      "8366    27000.0  Female  Asian              NaN  \n",
      "10937    5000.0    Male  Black              NaN  \n",
      "11997       0.0    Male  Asian              NaN  \n",
      "14429   11000.0    Male  Asian              NaN  \n",
      "...         ...     ...    ...              ...  \n",
      "61982  350000.0    Male  Asian  Master's Degree  \n",
      "61984   50000.0  Female  White  Master's Degree  \n",
      "61986       0.0    Male  Asian              NaN  \n",
      "61987  124000.0    Male  Black  Master's Degree  \n",
      "61991  200000.0    Male  Asian  Master's Degree  \n",
      "\n",
      "[22427 rows x 13 columns]\n"
     ]
    }
   ],
   "source": [
    "dbf_gender = db[db['gender'].isnull() == False]\n",
    "\n",
    "dbf_race = db[db['Race'].isnull() == False]\n",
    "\n",
    "print(dbf_race)\n"
   ]
  },
  {
   "cell_type": "code",
   "execution_count": null,
   "id": "c14cae8f-3905-4e36-b460-faf17c04c08e",
   "metadata": {},
   "outputs": [],
   "source": []
  }
 ],
 "metadata": {
  "kernelspec": {
   "display_name": "Python 3 (ipykernel)",
   "language": "python",
   "name": "python3"
  },
  "language_info": {
   "codemirror_mode": {
    "name": "ipython",
    "version": 3
   },
   "file_extension": ".py",
   "mimetype": "text/x-python",
   "name": "python",
   "nbconvert_exporter": "python",
   "pygments_lexer": "ipython3",
   "version": "3.10.8"
  }
 },
 "nbformat": 4,
 "nbformat_minor": 5
}
