{
 "cells": [
  {
   "cell_type": "markdown",
   "id": "abd178e9-48f1-4605-9960-0c914d23ac55",
   "metadata": {},
   "source": [
    "<h1> What CS field maximizes your potential for salary growth? </h1>\n",
    "    by Almamy Bah and Oscar Herrera\n",
    "    \n",
    "<h2> Introduction </h2> \n",
    "\n",
    "After graduating, a sizable percentage of undergraduate students join the workforce without having a basic understanding of the earning potential of their learned talents. This is especially true for those studying computer science who aren't sure what career path to take. It is crucial that these students have access to trustworthy information about the financial possibilities for various career pathways, including data science, cyber security, and software engineering, as compensation is one of the most crucial aspects in employment selection.\n",
    "By using the data science pipeline to examine the available data, our goal is to give computer science students the greatest financial options possible. Through an examination of average pay for various job titles, degrees of expertise, and organizations, we will look into how to maximize their earning potential. Furthermore, by investigating which states offer the best incomes for a certain degree, we will examine how geography influences income. We will also look at non-job-related variables like ethnicity, gender, and educational attainment that could have an ongoing impact on income.\n",
    "By providing comprehensive and accurate information, our aim is to assist computer science students in making informed decisions about their future career paths and maximizing their earning potential. Ultimately, we believe that this will help to create a more equitable and prosperous job market for all computer science graduates.\n",
    "\n",
    "Our first null hypothesis is that\n",
    "Our second is that\n"
   ]
  },
  {
   "cell_type": "markdown",
   "id": "2a1eaa90-deac-4d57-a4b7-877d3da77900",
   "metadata": {
    "tags": []
   },
   "source": [
    "<h1> Data Collection </h1>\n",
    "Data Collection:\n",
    "For this step, we looked for a dataset that is related to the salary of computer science jobs. More specifically, we look into a dataset from Kaggle related to Data Science and Stem Salaries. It contains more than 62,000 salary records from top companies. It contains useful data such as gender, race, level of experience, base salary etc… that we think is enough for our tutorial. The data set can be found <a href= https://www.kaggle.com/datasets/jackogozaly/data-science-and-stem-salaries> here </a>.\n",
    "\n",
    "\n"
   ]
  },
  {
   "cell_type": "markdown",
   "id": "17dba0fd-0207-4275-a6e3-ebdc5ef638f2",
   "metadata": {},
   "source": [
    "First we will import the libraries we will use for the project:"
   ]
  },
  {
   "cell_type": "code",
   "execution_count": 7,
   "id": "4c8c1ea1-90ef-48e6-bdb1-0dbc9853b206",
   "metadata": {},
   "outputs": [
    {
     "data": {
      "text/html": [
       "<div>\n",
       "<style scoped>\n",
       "    .dataframe tbody tr th:only-of-type {\n",
       "        vertical-align: middle;\n",
       "    }\n",
       "\n",
       "    .dataframe tbody tr th {\n",
       "        vertical-align: top;\n",
       "    }\n",
       "\n",
       "    .dataframe thead th {\n",
       "        text-align: right;\n",
       "    }\n",
       "</style>\n",
       "<table border=\"1\" class=\"dataframe\">\n",
       "  <thead>\n",
       "    <tr style=\"text-align: right;\">\n",
       "      <th></th>\n",
       "      <th>timestamp</th>\n",
       "      <th>company</th>\n",
       "      <th>level</th>\n",
       "      <th>title</th>\n",
       "      <th>totalyearlycompensation</th>\n",
       "      <th>location</th>\n",
       "      <th>yearsofexperience</th>\n",
       "      <th>yearsatcompany</th>\n",
       "      <th>tag</th>\n",
       "      <th>basesalary</th>\n",
       "      <th>...</th>\n",
       "      <th>Doctorate_Degree</th>\n",
       "      <th>Highschool</th>\n",
       "      <th>Some_College</th>\n",
       "      <th>Race_Asian</th>\n",
       "      <th>Race_White</th>\n",
       "      <th>Race_Two_Or_More</th>\n",
       "      <th>Race_Black</th>\n",
       "      <th>Race_Hispanic</th>\n",
       "      <th>Race</th>\n",
       "      <th>Education</th>\n",
       "    </tr>\n",
       "  </thead>\n",
       "  <tbody>\n",
       "    <tr>\n",
       "      <th>0</th>\n",
       "      <td>6/7/2017 11:33:27</td>\n",
       "      <td>Oracle</td>\n",
       "      <td>L3</td>\n",
       "      <td>Product Manager</td>\n",
       "      <td>127000</td>\n",
       "      <td>Redwood City, CA</td>\n",
       "      <td>1.5</td>\n",
       "      <td>1.5</td>\n",
       "      <td>NaN</td>\n",
       "      <td>107000.0</td>\n",
       "      <td>...</td>\n",
       "      <td>0</td>\n",
       "      <td>0</td>\n",
       "      <td>0</td>\n",
       "      <td>0</td>\n",
       "      <td>0</td>\n",
       "      <td>0</td>\n",
       "      <td>0</td>\n",
       "      <td>0</td>\n",
       "      <td>NaN</td>\n",
       "      <td>NaN</td>\n",
       "    </tr>\n",
       "    <tr>\n",
       "      <th>1</th>\n",
       "      <td>6/10/2017 17:11:29</td>\n",
       "      <td>eBay</td>\n",
       "      <td>SE 2</td>\n",
       "      <td>Software Engineer</td>\n",
       "      <td>100000</td>\n",
       "      <td>San Francisco, CA</td>\n",
       "      <td>5.0</td>\n",
       "      <td>3.0</td>\n",
       "      <td>NaN</td>\n",
       "      <td>0.0</td>\n",
       "      <td>...</td>\n",
       "      <td>0</td>\n",
       "      <td>0</td>\n",
       "      <td>0</td>\n",
       "      <td>0</td>\n",
       "      <td>0</td>\n",
       "      <td>0</td>\n",
       "      <td>0</td>\n",
       "      <td>0</td>\n",
       "      <td>NaN</td>\n",
       "      <td>NaN</td>\n",
       "    </tr>\n",
       "    <tr>\n",
       "      <th>2</th>\n",
       "      <td>6/11/2017 14:53:57</td>\n",
       "      <td>Amazon</td>\n",
       "      <td>L7</td>\n",
       "      <td>Product Manager</td>\n",
       "      <td>310000</td>\n",
       "      <td>Seattle, WA</td>\n",
       "      <td>8.0</td>\n",
       "      <td>0.0</td>\n",
       "      <td>NaN</td>\n",
       "      <td>155000.0</td>\n",
       "      <td>...</td>\n",
       "      <td>0</td>\n",
       "      <td>0</td>\n",
       "      <td>0</td>\n",
       "      <td>0</td>\n",
       "      <td>0</td>\n",
       "      <td>0</td>\n",
       "      <td>0</td>\n",
       "      <td>0</td>\n",
       "      <td>NaN</td>\n",
       "      <td>NaN</td>\n",
       "    </tr>\n",
       "    <tr>\n",
       "      <th>3</th>\n",
       "      <td>6/17/2017 0:23:14</td>\n",
       "      <td>Apple</td>\n",
       "      <td>M1</td>\n",
       "      <td>Software Engineering Manager</td>\n",
       "      <td>372000</td>\n",
       "      <td>Sunnyvale, CA</td>\n",
       "      <td>7.0</td>\n",
       "      <td>5.0</td>\n",
       "      <td>NaN</td>\n",
       "      <td>157000.0</td>\n",
       "      <td>...</td>\n",
       "      <td>0</td>\n",
       "      <td>0</td>\n",
       "      <td>0</td>\n",
       "      <td>0</td>\n",
       "      <td>0</td>\n",
       "      <td>0</td>\n",
       "      <td>0</td>\n",
       "      <td>0</td>\n",
       "      <td>NaN</td>\n",
       "      <td>NaN</td>\n",
       "    </tr>\n",
       "    <tr>\n",
       "      <th>4</th>\n",
       "      <td>6/20/2017 10:58:51</td>\n",
       "      <td>Microsoft</td>\n",
       "      <td>60</td>\n",
       "      <td>Software Engineer</td>\n",
       "      <td>157000</td>\n",
       "      <td>Mountain View, CA</td>\n",
       "      <td>5.0</td>\n",
       "      <td>3.0</td>\n",
       "      <td>NaN</td>\n",
       "      <td>0.0</td>\n",
       "      <td>...</td>\n",
       "      <td>0</td>\n",
       "      <td>0</td>\n",
       "      <td>0</td>\n",
       "      <td>0</td>\n",
       "      <td>0</td>\n",
       "      <td>0</td>\n",
       "      <td>0</td>\n",
       "      <td>0</td>\n",
       "      <td>NaN</td>\n",
       "      <td>NaN</td>\n",
       "    </tr>\n",
       "  </tbody>\n",
       "</table>\n",
       "<p>5 rows × 29 columns</p>\n",
       "</div>"
      ],
      "text/plain": [
       "            timestamp    company level                         title  \\\n",
       "0   6/7/2017 11:33:27     Oracle    L3               Product Manager   \n",
       "1  6/10/2017 17:11:29       eBay  SE 2             Software Engineer   \n",
       "2  6/11/2017 14:53:57     Amazon    L7               Product Manager   \n",
       "3   6/17/2017 0:23:14      Apple    M1  Software Engineering Manager   \n",
       "4  6/20/2017 10:58:51  Microsoft    60             Software Engineer   \n",
       "\n",
       "   totalyearlycompensation           location  yearsofexperience  \\\n",
       "0                   127000   Redwood City, CA                1.5   \n",
       "1                   100000  San Francisco, CA                5.0   \n",
       "2                   310000        Seattle, WA                8.0   \n",
       "3                   372000      Sunnyvale, CA                7.0   \n",
       "4                   157000  Mountain View, CA                5.0   \n",
       "\n",
       "   yearsatcompany  tag  basesalary  ...  Doctorate_Degree  Highschool  \\\n",
       "0             1.5  NaN    107000.0  ...                 0           0   \n",
       "1             3.0  NaN         0.0  ...                 0           0   \n",
       "2             0.0  NaN    155000.0  ...                 0           0   \n",
       "3             5.0  NaN    157000.0  ...                 0           0   \n",
       "4             3.0  NaN         0.0  ...                 0           0   \n",
       "\n",
       "  Some_College Race_Asian  Race_White  Race_Two_Or_More  Race_Black  \\\n",
       "0            0          0           0                 0           0   \n",
       "1            0          0           0                 0           0   \n",
       "2            0          0           0                 0           0   \n",
       "3            0          0           0                 0           0   \n",
       "4            0          0           0                 0           0   \n",
       "\n",
       "   Race_Hispanic  Race  Education  \n",
       "0              0   NaN        NaN  \n",
       "1              0   NaN        NaN  \n",
       "2              0   NaN        NaN  \n",
       "3              0   NaN        NaN  \n",
       "4              0   NaN        NaN  \n",
       "\n",
       "[5 rows x 29 columns]"
      ]
     },
     "execution_count": 7,
     "metadata": {},
     "output_type": "execute_result"
    }
   ],
   "source": [
    "import pandas as pd\n",
    "import numpy as np\n",
    "import random\n",
    "import matplotlib.pyplot as plt\n",
    "\n",
    "db = pd.read_csv(\"final_data.csv\")\n",
    "db.head()"
   ]
  },
  {
   "cell_type": "markdown",
   "id": "3a4d38af-3902-48f4-b7a3-a617c2fdb75c",
   "metadata": {},
   "source": [
    "Next, we will get rid of the columns containing extraneous data for our project"
   ]
  },
  {
   "cell_type": "code",
   "execution_count": 8,
   "id": "e78a2519-f78f-4c59-ad9b-a7bcc742ac9d",
   "metadata": {},
   "outputs": [
    {
     "name": "stdout",
     "output_type": "stream",
     "text": [
      "                timestamp     company     level                         title  \\\n",
      "0       6/7/2017 11:33:27      Oracle        L3               Product Manager   \n",
      "1      6/10/2017 17:11:29        eBay      SE 2             Software Engineer   \n",
      "2      6/11/2017 14:53:57      Amazon        L7               Product Manager   \n",
      "3       6/17/2017 0:23:14       Apple        M1  Software Engineering Manager   \n",
      "4      6/20/2017 10:58:51   Microsoft        60             Software Engineer   \n",
      "...                   ...         ...       ...                           ...   \n",
      "62637   9/9/2018 11:52:32      Google        T4             Software Engineer   \n",
      "62638   9/13/2018 8:23:32   Microsoft        62             Software Engineer   \n",
      "62639  9/13/2018 14:35:59        MSFT        63             Software Engineer   \n",
      "62640  9/16/2018 16:10:35  Salesforce  Lead MTS             Software Engineer   \n",
      "62641   1/29/2019 5:12:59       apple      ict3             Software Engineer   \n",
      "\n",
      "       totalyearlycompensation           location  yearsofexperience  \\\n",
      "0                       127000   Redwood City, CA                1.5   \n",
      "1                       100000  San Francisco, CA                5.0   \n",
      "2                       310000        Seattle, WA                8.0   \n",
      "3                       372000      Sunnyvale, CA                7.0   \n",
      "4                       157000  Mountain View, CA                5.0   \n",
      "...                        ...                ...                ...   \n",
      "62637                   327000        Seattle, WA               10.0   \n",
      "62638                   237000        Redmond, WA                2.0   \n",
      "62639                   220000        Seattle, WA               14.0   \n",
      "62640                   280000  San Francisco, CA                8.0   \n",
      "62641                   200000      Sunnyvale, CA                0.0   \n",
      "\n",
      "       basesalary  stockgrantvalue    bonus gender Race Education  \n",
      "0        107000.0          20000.0  10000.0    NaN  NaN       NaN  \n",
      "1             0.0              0.0      0.0    NaN  NaN       NaN  \n",
      "2        155000.0              0.0      0.0    NaN  NaN       NaN  \n",
      "3        157000.0         180000.0  35000.0    NaN  NaN       NaN  \n",
      "4             0.0              0.0      0.0    NaN  NaN       NaN  \n",
      "...           ...              ...      ...    ...  ...       ...  \n",
      "62637    155000.0         150000.0  22000.0    NaN  NaN       NaN  \n",
      "62638    146900.0          73200.0  16000.0    NaN  NaN       NaN  \n",
      "62639    157000.0          25000.0  20000.0    NaN  NaN       NaN  \n",
      "62640    194688.0          57000.0  29000.0    NaN  NaN       NaN  \n",
      "62641    155000.0          27000.0  19000.0   Male  NaN       NaN  \n",
      "\n",
      "[62642 rows x 13 columns]\n"
     ]
    }
   ],
   "source": [
    "db = db.drop(\"yearsatcompany\", axis=1)\n",
    "db = db.drop(\"tag\", axis=1)\n",
    "db = db.drop(\"cityid\", axis=1)\n",
    "db = db.drop(\"otherdetails\", axis=1)\n",
    "db = db.drop(\"dmaid\", axis=1)\n",
    "db = db.drop(\"rowNumber\", axis=1)\n",
    "db = db.drop(\"Masters_Degree\", axis=1)\n",
    "db = db.drop(\"Bachelors_Degree\", axis=1)\n",
    "db = db.drop(\"Doctorate_Degree\", axis=1)\n",
    "db = db.drop(\"Highschool\", axis=1)\n",
    "db = db.drop(\"Some_College\", axis=1)\n",
    "db = db.drop(\"Race_Asian\", axis=1)\n",
    "db = db.drop(\"Race_White\", axis=1)\n",
    "db = db.drop(\"Race_Two_Or_More\", axis=1)\n",
    "db = db.drop(\"Race_Black\", axis=1)\n",
    "db = db.drop(\"Race_Hispanic\", axis=1)\n",
    "\n",
    "print(db)"
   ]
  },
  {
   "cell_type": "markdown",
   "id": "2785593e-5be6-4868-946c-544d074d0a9f",
   "metadata": {},
   "source": [
    "<h1>This should be removed right?</h1>\n",
    "<h1> Data Processing </h1>\n",
    "\n",
    "Now we will remove rows containing null values for gender and race."
   ]
  },
  {
   "cell_type": "code",
   "execution_count": 9,
   "id": "afacf329-ee67-4421-8496-4b417ed2b4c9",
   "metadata": {},
   "outputs": [
    {
     "name": "stdout",
     "output_type": "stream",
     "text": [
      "                 timestamp   company                level  \\\n",
      "6921     6/1/2019 20:54:48  Facebook                  IC5   \n",
      "8366     7/2/2019 16:43:16     Intel              Grade 7   \n",
      "10937   9/15/2019 20:11:14   Comcast           Engineer 2   \n",
      "11997  10/13/2019 11:43:20     Latch              Manager   \n",
      "14429  12/30/2019 11:16:12    Intuit  Software Engineer 1   \n",
      "...                    ...       ...                  ...   \n",
      "61982    3/9/2021 17:03:07    Google                  L10   \n",
      "61984   3/25/2021 10:45:03    Zapier                   L8   \n",
      "61986   5/14/2021 13:30:43    Amazon                   L8   \n",
      "61987   5/18/2021 15:34:21  Facebook                   D1   \n",
      "61991   7/30/2021 22:23:24  Facebook                   E9   \n",
      "\n",
      "                              title  totalyearlycompensation  \\\n",
      "6921               Product Designer                   310000   \n",
      "8366              Hardware Engineer                   200000   \n",
      "10937             Software Engineer                   103000   \n",
      "11997  Software Engineering Manager                   170000   \n",
      "14429             Software Engineer                   134000   \n",
      "...                             ...                      ...   \n",
      "61982               Product Manager                  4500000   \n",
      "61984  Software Engineering Manager                  1605000   \n",
      "61986  Software Engineering Manager                  1660000   \n",
      "61987  Software Engineering Manager                  2372000   \n",
      "61991               Product Manager                  4980000   \n",
      "\n",
      "                location  yearsofexperience  basesalary  stockgrantvalue  \\\n",
      "6921      Menlo Park, CA                7.0    165000.0         120000.0   \n",
      "8366     Santa Clara, CA               14.0    163000.0          10000.0   \n",
      "10937   Philadelphia, PA                2.0     96000.0           2000.0   \n",
      "11997       New York, NY                6.0    170000.0              0.0   \n",
      "14429  Mountain View, CA                1.0    110000.0          13000.0   \n",
      "...                  ...                ...         ...              ...   \n",
      "61982  San Francisco, CA               20.0    450000.0           3700.0   \n",
      "61984         Denver, CO               16.0    250000.0           1305.0   \n",
      "61986        Seattle, WA               15.0    160000.0           1500.0   \n",
      "61987     Menlo Park, CA               22.0    315000.0           1933.0   \n",
      "61991     Menlo Park, CA               17.0    380000.0           4400.0   \n",
      "\n",
      "          bonus  gender   Race        Education  \n",
      "6921    25000.0  Female  White              NaN  \n",
      "8366    27000.0  Female  Asian              NaN  \n",
      "10937    5000.0    Male  Black              NaN  \n",
      "11997       0.0    Male  Asian              NaN  \n",
      "14429   11000.0    Male  Asian              NaN  \n",
      "...         ...     ...    ...              ...  \n",
      "61982  350000.0    Male  Asian  Master's Degree  \n",
      "61984   50000.0  Female  White  Master's Degree  \n",
      "61986       0.0    Male  Asian              NaN  \n",
      "61987  124000.0    Male  Black  Master's Degree  \n",
      "61991  200000.0    Male  Asian  Master's Degree  \n",
      "\n",
      "[22427 rows x 13 columns]\n"
     ]
    }
   ],
   "source": [
    "dbf_gender = db[db['gender'].isnull() == False]\n",
    "\n",
    "dbf_race = db[db['Race'].isnull() == False]\n",
    "\n",
    "print(dbf_race)\n"
   ]
  },
  {
   "cell_type": "markdown",
   "id": "80674e71-faa2-4b7c-856d-2363570bf6c4",
   "metadata": {},
   "source": [
    "<h2> Data cleaning </h2> \n",
    "Now we will see where we have a lot of missing data through the following graph. This will allows us to have a better\n",
    "understaning of how to handle missing data in our project.\n"
   ]
  },
  {
   "cell_type": "code",
   "execution_count": 10,
   "id": "c14cae8f-3905-4e36-b460-faf17c04c08e",
   "metadata": {},
   "outputs": [
    {
     "data": {
      "image/png": "[encoded data removed]",
      "text/plain": [
       "<Figure size 2500x1000 with 2 Axes>"
      ]
     },
     "metadata": {},
     "output_type": "display_data"
    },
    {
     "data": {
      "text/plain": [
       "timestamp                      0\n",
       "company                        5\n",
       "level                        119\n",
       "title                          0\n",
       "totalyearlycompensation        0\n",
       "location                       0\n",
       "yearsofexperience              0\n",
       "basesalary                     0\n",
       "stockgrantvalue                0\n",
       "bonus                          0\n",
       "gender                     19540\n",
       "Race                       40215\n",
       "Education                  32272\n",
       "dtype: int64"
      ]
     },
     "execution_count": 10,
     "metadata": {},
     "output_type": "execute_result"
    }
   ],
   "source": [
    "import missingno as msno\n",
    "msno.matrix(db)\n",
    "plt.show()\n",
    "db.isna().sum() "
   ]
  },
  {
   "cell_type": "markdown",
   "id": "20a8ce90-a38d-45ab-a977-101496748677",
   "metadata": {},
   "source": [
    "As you can see, we have a decent amount of missing data. Specially at the gender, education and Race column. Getting rid of all the rows with missing information might bias our sample and lead to variance larger than reflected by the size of our data. From our understanding, this data is not missing completely at randomn. Therefore we will fill it using imputation technique.\n"
   ]
  },
  {
   "cell_type": "markdown",
   "id": "47ab256d-041a-407e-a451-39a4f962f545",
   "metadata": {},
   "source": [
    "<h3> Filling Gender Missing Values</h3>"
   ]
  },
  {
   "cell_type": "code",
   "execution_count": 11,
   "id": "71a83f86-8881-4f6c-8864-204ee57f1ecf",
   "metadata": {},
   "outputs": [
    {
     "data": {
      "text/plain": [
       "array([nan, 'Male', 'Female', 'Other', 'Title: Senior Software Engineer'],\n",
       "      dtype=object)"
      ]
     },
     "execution_count": 11,
     "metadata": {},
     "output_type": "execute_result"
    }
   ],
   "source": [
    "# Finding the different type of genre\n",
    "db['gender'].unique()\n"
   ]
  },
  {
   "cell_type": "markdown",
   "id": "a6db8297-93c5-44cf-ac0f-1246ea306821",
   "metadata": {},
   "source": [
    "We are only interested in male and female genders. Therefore we will clean the gender column data and replace the other types of gender found above with nan before using imputation to replace those Nan values by either male or female"
   ]
  },
  {
   "cell_type": "code",
   "execution_count": 12,
   "id": "0ece6597-8898-4f60-9d55-db654bcd13df",
   "metadata": {},
   "outputs": [
    {
     "data": {
      "text/html": [
       "<div>\n",
       "<style scoped>\n",
       "    .dataframe tbody tr th:only-of-type {\n",
       "        vertical-align: middle;\n",
       "    }\n",
       "\n",
       "    .dataframe tbody tr th {\n",
       "        vertical-align: top;\n",
       "    }\n",
       "\n",
       "    .dataframe thead th {\n",
       "        text-align: right;\n",
       "    }\n",
       "</style>\n",
       "<table border=\"1\" class=\"dataframe\">\n",
       "  <thead>\n",
       "    <tr style=\"text-align: right;\">\n",
       "      <th></th>\n",
       "      <th>timestamp</th>\n",
       "      <th>company</th>\n",
       "      <th>level</th>\n",
       "      <th>title</th>\n",
       "      <th>totalyearlycompensation</th>\n",
       "      <th>location</th>\n",
       "      <th>yearsofexperience</th>\n",
       "      <th>basesalary</th>\n",
       "      <th>stockgrantvalue</th>\n",
       "      <th>bonus</th>\n",
       "      <th>gender</th>\n",
       "      <th>Race</th>\n",
       "      <th>Education</th>\n",
       "    </tr>\n",
       "  </thead>\n",
       "  <tbody>\n",
       "    <tr>\n",
       "      <th>0</th>\n",
       "      <td>6/7/2017 11:33:27</td>\n",
       "      <td>Oracle</td>\n",
       "      <td>L3</td>\n",
       "      <td>Product Manager</td>\n",
       "      <td>127000</td>\n",
       "      <td>Redwood City, CA</td>\n",
       "      <td>1.5</td>\n",
       "      <td>107000.0</td>\n",
       "      <td>20000.0</td>\n",
       "      <td>10000.0</td>\n",
       "      <td>Female</td>\n",
       "      <td>NaN</td>\n",
       "      <td>NaN</td>\n",
       "    </tr>\n",
       "    <tr>\n",
       "      <th>1</th>\n",
       "      <td>6/10/2017 17:11:29</td>\n",
       "      <td>eBay</td>\n",
       "      <td>SE 2</td>\n",
       "      <td>Software Engineer</td>\n",
       "      <td>100000</td>\n",
       "      <td>San Francisco, CA</td>\n",
       "      <td>5.0</td>\n",
       "      <td>0.0</td>\n",
       "      <td>0.0</td>\n",
       "      <td>0.0</td>\n",
       "      <td>Female</td>\n",
       "      <td>NaN</td>\n",
       "      <td>NaN</td>\n",
       "    </tr>\n",
       "    <tr>\n",
       "      <th>2</th>\n",
       "      <td>6/11/2017 14:53:57</td>\n",
       "      <td>Amazon</td>\n",
       "      <td>L7</td>\n",
       "      <td>Product Manager</td>\n",
       "      <td>310000</td>\n",
       "      <td>Seattle, WA</td>\n",
       "      <td>8.0</td>\n",
       "      <td>155000.0</td>\n",
       "      <td>0.0</td>\n",
       "      <td>0.0</td>\n",
       "      <td>Female</td>\n",
       "      <td>NaN</td>\n",
       "      <td>NaN</td>\n",
       "    </tr>\n",
       "    <tr>\n",
       "      <th>3</th>\n",
       "      <td>6/17/2017 0:23:14</td>\n",
       "      <td>Apple</td>\n",
       "      <td>M1</td>\n",
       "      <td>Software Engineering Manager</td>\n",
       "      <td>372000</td>\n",
       "      <td>Sunnyvale, CA</td>\n",
       "      <td>7.0</td>\n",
       "      <td>157000.0</td>\n",
       "      <td>180000.0</td>\n",
       "      <td>35000.0</td>\n",
       "      <td>Female</td>\n",
       "      <td>NaN</td>\n",
       "      <td>NaN</td>\n",
       "    </tr>\n",
       "    <tr>\n",
       "      <th>4</th>\n",
       "      <td>6/20/2017 10:58:51</td>\n",
       "      <td>Microsoft</td>\n",
       "      <td>60</td>\n",
       "      <td>Software Engineer</td>\n",
       "      <td>157000</td>\n",
       "      <td>Mountain View, CA</td>\n",
       "      <td>5.0</td>\n",
       "      <td>0.0</td>\n",
       "      <td>0.0</td>\n",
       "      <td>0.0</td>\n",
       "      <td>Female</td>\n",
       "      <td>NaN</td>\n",
       "      <td>NaN</td>\n",
       "    </tr>\n",
       "  </tbody>\n",
       "</table>\n",
       "</div>"
      ],
      "text/plain": [
       "            timestamp    company level                         title  \\\n",
       "0   6/7/2017 11:33:27     Oracle    L3               Product Manager   \n",
       "1  6/10/2017 17:11:29       eBay  SE 2             Software Engineer   \n",
       "2  6/11/2017 14:53:57     Amazon    L7               Product Manager   \n",
       "3   6/17/2017 0:23:14      Apple    M1  Software Engineering Manager   \n",
       "4  6/20/2017 10:58:51  Microsoft    60             Software Engineer   \n",
       "\n",
       "   totalyearlycompensation           location  yearsofexperience  basesalary  \\\n",
       "0                   127000   Redwood City, CA                1.5    107000.0   \n",
       "1                   100000  San Francisco, CA                5.0         0.0   \n",
       "2                   310000        Seattle, WA                8.0    155000.0   \n",
       "3                   372000      Sunnyvale, CA                7.0    157000.0   \n",
       "4                   157000  Mountain View, CA                5.0         0.0   \n",
       "\n",
       "   stockgrantvalue    bonus  gender Race Education  \n",
       "0          20000.0  10000.0  Female  NaN       NaN  \n",
       "1              0.0      0.0  Female  NaN       NaN  \n",
       "2              0.0      0.0  Female  NaN       NaN  \n",
       "3         180000.0  35000.0  Female  NaN       NaN  \n",
       "4              0.0      0.0  Female  NaN       NaN  "
      ]
     },
     "execution_count": 12,
     "metadata": {},
     "output_type": "execute_result"
    }
   ],
   "source": [
    "# Replacing all non male/female gender by nan\n",
    "for index, row in db.iterrows():\n",
    "    \n",
    "    if(row['gender']!='Male' and row['gender']!='Female'):\n",
    "        \n",
    "        db.loc[index, 'gender']= np.nan\n",
    "        \n",
    "# Now we fill in the row with either Male or female\n",
    "\n",
    "genders = ['Male', 'Female']\n",
    "\n",
    "db['gender'] = db['gender'].apply(lambda x: random.choice(genders) if pd.isna(x) else x)\n",
    "\n",
    "db.head()\n"
   ]
  },
  {
   "cell_type": "markdown",
   "id": "b2482f3c-0865-4e5c-9d80-25dfd97e2959",
   "metadata": {},
   "source": [
    "<h3> Filling Race Missing Values</h3>"
   ]
  },
  {
   "cell_type": "code",
   "execution_count": 13,
   "id": "9fa32592-8e97-42b4-b4eb-1e5f2ba0bb24",
   "metadata": {},
   "outputs": [
    {
     "data": {
      "text/plain": [
       "array([nan, 'White', 'Asian', 'Black', 'Two Or More', 'Hispanic'],\n",
       "      dtype=object)"
      ]
     },
     "execution_count": 13,
     "metadata": {},
     "output_type": "execute_result"
    }
   ],
   "source": [
    "# Finding the different type of Race\n",
    "db['Race'].unique()\n"
   ]
  },
  {
   "cell_type": "code",
   "execution_count": 14,
   "id": "c89ae1f4-4668-40a8-bcd3-7a21bf9b3804",
   "metadata": {},
   "outputs": [
    {
     "data": {
      "text/html": [
       "<div>\n",
       "<style scoped>\n",
       "    .dataframe tbody tr th:only-of-type {\n",
       "        vertical-align: middle;\n",
       "    }\n",
       "\n",
       "    .dataframe tbody tr th {\n",
       "        vertical-align: top;\n",
       "    }\n",
       "\n",
       "    .dataframe thead th {\n",
       "        text-align: right;\n",
       "    }\n",
       "</style>\n",
       "<table border=\"1\" class=\"dataframe\">\n",
       "  <thead>\n",
       "    <tr style=\"text-align: right;\">\n",
       "      <th></th>\n",
       "      <th>timestamp</th>\n",
       "      <th>company</th>\n",
       "      <th>level</th>\n",
       "      <th>title</th>\n",
       "      <th>totalyearlycompensation</th>\n",
       "      <th>location</th>\n",
       "      <th>yearsofexperience</th>\n",
       "      <th>basesalary</th>\n",
       "      <th>stockgrantvalue</th>\n",
       "      <th>bonus</th>\n",
       "      <th>gender</th>\n",
       "      <th>Race</th>\n",
       "      <th>Education</th>\n",
       "    </tr>\n",
       "  </thead>\n",
       "  <tbody>\n",
       "    <tr>\n",
       "      <th>0</th>\n",
       "      <td>6/7/2017 11:33:27</td>\n",
       "      <td>Oracle</td>\n",
       "      <td>L3</td>\n",
       "      <td>Product Manager</td>\n",
       "      <td>127000</td>\n",
       "      <td>Redwood City, CA</td>\n",
       "      <td>1.5</td>\n",
       "      <td>107000.0</td>\n",
       "      <td>20000.0</td>\n",
       "      <td>10000.0</td>\n",
       "      <td>Female</td>\n",
       "      <td>White</td>\n",
       "      <td>NaN</td>\n",
       "    </tr>\n",
       "    <tr>\n",
       "      <th>1</th>\n",
       "      <td>6/10/2017 17:11:29</td>\n",
       "      <td>eBay</td>\n",
       "      <td>SE 2</td>\n",
       "      <td>Software Engineer</td>\n",
       "      <td>100000</td>\n",
       "      <td>San Francisco, CA</td>\n",
       "      <td>5.0</td>\n",
       "      <td>0.0</td>\n",
       "      <td>0.0</td>\n",
       "      <td>0.0</td>\n",
       "      <td>Female</td>\n",
       "      <td>Hispanic</td>\n",
       "      <td>NaN</td>\n",
       "    </tr>\n",
       "    <tr>\n",
       "      <th>2</th>\n",
       "      <td>6/11/2017 14:53:57</td>\n",
       "      <td>Amazon</td>\n",
       "      <td>L7</td>\n",
       "      <td>Product Manager</td>\n",
       "      <td>310000</td>\n",
       "      <td>Seattle, WA</td>\n",
       "      <td>8.0</td>\n",
       "      <td>155000.0</td>\n",
       "      <td>0.0</td>\n",
       "      <td>0.0</td>\n",
       "      <td>Female</td>\n",
       "      <td>Black</td>\n",
       "      <td>NaN</td>\n",
       "    </tr>\n",
       "    <tr>\n",
       "      <th>3</th>\n",
       "      <td>6/17/2017 0:23:14</td>\n",
       "      <td>Apple</td>\n",
       "      <td>M1</td>\n",
       "      <td>Software Engineering Manager</td>\n",
       "      <td>372000</td>\n",
       "      <td>Sunnyvale, CA</td>\n",
       "      <td>7.0</td>\n",
       "      <td>157000.0</td>\n",
       "      <td>180000.0</td>\n",
       "      <td>35000.0</td>\n",
       "      <td>Female</td>\n",
       "      <td>Hispanic</td>\n",
       "      <td>NaN</td>\n",
       "    </tr>\n",
       "    <tr>\n",
       "      <th>4</th>\n",
       "      <td>6/20/2017 10:58:51</td>\n",
       "      <td>Microsoft</td>\n",
       "      <td>60</td>\n",
       "      <td>Software Engineer</td>\n",
       "      <td>157000</td>\n",
       "      <td>Mountain View, CA</td>\n",
       "      <td>5.0</td>\n",
       "      <td>0.0</td>\n",
       "      <td>0.0</td>\n",
       "      <td>0.0</td>\n",
       "      <td>Female</td>\n",
       "      <td>Hispanic</td>\n",
       "      <td>NaN</td>\n",
       "    </tr>\n",
       "  </tbody>\n",
       "</table>\n",
       "</div>"
      ],
      "text/plain": [
       "            timestamp    company level                         title  \\\n",
       "0   6/7/2017 11:33:27     Oracle    L3               Product Manager   \n",
       "1  6/10/2017 17:11:29       eBay  SE 2             Software Engineer   \n",
       "2  6/11/2017 14:53:57     Amazon    L7               Product Manager   \n",
       "3   6/17/2017 0:23:14      Apple    M1  Software Engineering Manager   \n",
       "4  6/20/2017 10:58:51  Microsoft    60             Software Engineer   \n",
       "\n",
       "   totalyearlycompensation           location  yearsofexperience  basesalary  \\\n",
       "0                   127000   Redwood City, CA                1.5    107000.0   \n",
       "1                   100000  San Francisco, CA                5.0         0.0   \n",
       "2                   310000        Seattle, WA                8.0    155000.0   \n",
       "3                   372000      Sunnyvale, CA                7.0    157000.0   \n",
       "4                   157000  Mountain View, CA                5.0         0.0   \n",
       "\n",
       "   stockgrantvalue    bonus  gender      Race Education  \n",
       "0          20000.0  10000.0  Female     White       NaN  \n",
       "1              0.0      0.0  Female  Hispanic       NaN  \n",
       "2              0.0      0.0  Female     Black       NaN  \n",
       "3         180000.0  35000.0  Female  Hispanic       NaN  \n",
       "4              0.0      0.0  Female  Hispanic       NaN  "
      ]
     },
     "execution_count": 14,
     "metadata": {},
     "output_type": "execute_result"
    }
   ],
   "source": [
    "# Now we will remove the 'two or more' category\n",
    "\n",
    "for index, row in db.iterrows():\n",
    "    \n",
    "    if(row['Race'] == 'Two Or More'):\n",
    "        \n",
    "        db.loc[index, 'Race']= np.nan\n",
    "\n",
    "\n",
    "#Filling the Nan rows with a random race\n",
    "\n",
    "genders = ['White', 'Asian', 'Black', 'Hispanic']\n",
    "\n",
    "db['Race'] = db['Race'].apply(lambda x: random.choice(genders) if pd.isna(x) else x)\n",
    "\n",
    "db.head()\n"
   ]
  },
  {
   "cell_type": "markdown",
   "id": "96c7ef30-876e-46e9-bccc-14656302c6c0",
   "metadata": {},
   "source": [
    "<h3> Filling education Missing Values </h3>"
   ]
  },
  {
   "cell_type": "code",
   "execution_count": 15,
   "id": "62d7ab31-416e-4401-a33c-71303423b62d",
   "metadata": {},
   "outputs": [
    {
     "data": {
      "text/plain": [
       "array([nan, 'PhD', \"Master's Degree\", \"Bachelor's Degree\", 'Some College',\n",
       "       'Highschool'], dtype=object)"
      ]
     },
     "execution_count": 15,
     "metadata": {},
     "output_type": "execute_result"
    }
   ],
   "source": [
    "db['Education'].unique()\n"
   ]
  },
  {
   "cell_type": "code",
   "execution_count": 16,
   "id": "09dc9507-55f0-4a0c-86d1-c222e6018a51",
   "metadata": {},
   "outputs": [
    {
     "data": {
      "text/html": [
       "<div>\n",
       "<style scoped>\n",
       "    .dataframe tbody tr th:only-of-type {\n",
       "        vertical-align: middle;\n",
       "    }\n",
       "\n",
       "    .dataframe tbody tr th {\n",
       "        vertical-align: top;\n",
       "    }\n",
       "\n",
       "    .dataframe thead th {\n",
       "        text-align: right;\n",
       "    }\n",
       "</style>\n",
       "<table border=\"1\" class=\"dataframe\">\n",
       "  <thead>\n",
       "    <tr style=\"text-align: right;\">\n",
       "      <th></th>\n",
       "      <th>timestamp</th>\n",
       "      <th>company</th>\n",
       "      <th>level</th>\n",
       "      <th>title</th>\n",
       "      <th>totalyearlycompensation</th>\n",
       "      <th>location</th>\n",
       "      <th>yearsofexperience</th>\n",
       "      <th>basesalary</th>\n",
       "      <th>stockgrantvalue</th>\n",
       "      <th>bonus</th>\n",
       "      <th>gender</th>\n",
       "      <th>Race</th>\n",
       "      <th>Education</th>\n",
       "    </tr>\n",
       "  </thead>\n",
       "  <tbody>\n",
       "    <tr>\n",
       "      <th>0</th>\n",
       "      <td>6/7/2017 11:33:27</td>\n",
       "      <td>Oracle</td>\n",
       "      <td>L3</td>\n",
       "      <td>Product Manager</td>\n",
       "      <td>127000</td>\n",
       "      <td>Redwood City, CA</td>\n",
       "      <td>1.5</td>\n",
       "      <td>107000.0</td>\n",
       "      <td>20000.0</td>\n",
       "      <td>10000.0</td>\n",
       "      <td>Female</td>\n",
       "      <td>White</td>\n",
       "      <td>PhD</td>\n",
       "    </tr>\n",
       "    <tr>\n",
       "      <th>1</th>\n",
       "      <td>6/10/2017 17:11:29</td>\n",
       "      <td>eBay</td>\n",
       "      <td>SE 2</td>\n",
       "      <td>Software Engineer</td>\n",
       "      <td>100000</td>\n",
       "      <td>San Francisco, CA</td>\n",
       "      <td>5.0</td>\n",
       "      <td>0.0</td>\n",
       "      <td>0.0</td>\n",
       "      <td>0.0</td>\n",
       "      <td>Female</td>\n",
       "      <td>Hispanic</td>\n",
       "      <td>Some College</td>\n",
       "    </tr>\n",
       "    <tr>\n",
       "      <th>2</th>\n",
       "      <td>6/11/2017 14:53:57</td>\n",
       "      <td>Amazon</td>\n",
       "      <td>L7</td>\n",
       "      <td>Product Manager</td>\n",
       "      <td>310000</td>\n",
       "      <td>Seattle, WA</td>\n",
       "      <td>8.0</td>\n",
       "      <td>155000.0</td>\n",
       "      <td>0.0</td>\n",
       "      <td>0.0</td>\n",
       "      <td>Female</td>\n",
       "      <td>Black</td>\n",
       "      <td>Bachelor's Degree</td>\n",
       "    </tr>\n",
       "    <tr>\n",
       "      <th>3</th>\n",
       "      <td>6/17/2017 0:23:14</td>\n",
       "      <td>Apple</td>\n",
       "      <td>M1</td>\n",
       "      <td>Software Engineering Manager</td>\n",
       "      <td>372000</td>\n",
       "      <td>Sunnyvale, CA</td>\n",
       "      <td>7.0</td>\n",
       "      <td>157000.0</td>\n",
       "      <td>180000.0</td>\n",
       "      <td>35000.0</td>\n",
       "      <td>Female</td>\n",
       "      <td>Hispanic</td>\n",
       "      <td>Bachelor's Degree</td>\n",
       "    </tr>\n",
       "    <tr>\n",
       "      <th>4</th>\n",
       "      <td>6/20/2017 10:58:51</td>\n",
       "      <td>Microsoft</td>\n",
       "      <td>60</td>\n",
       "      <td>Software Engineer</td>\n",
       "      <td>157000</td>\n",
       "      <td>Mountain View, CA</td>\n",
       "      <td>5.0</td>\n",
       "      <td>0.0</td>\n",
       "      <td>0.0</td>\n",
       "      <td>0.0</td>\n",
       "      <td>Female</td>\n",
       "      <td>Hispanic</td>\n",
       "      <td>Some College</td>\n",
       "    </tr>\n",
       "  </tbody>\n",
       "</table>\n",
       "</div>"
      ],
      "text/plain": [
       "            timestamp    company level                         title  \\\n",
       "0   6/7/2017 11:33:27     Oracle    L3               Product Manager   \n",
       "1  6/10/2017 17:11:29       eBay  SE 2             Software Engineer   \n",
       "2  6/11/2017 14:53:57     Amazon    L7               Product Manager   \n",
       "3   6/17/2017 0:23:14      Apple    M1  Software Engineering Manager   \n",
       "4  6/20/2017 10:58:51  Microsoft    60             Software Engineer   \n",
       "\n",
       "   totalyearlycompensation           location  yearsofexperience  basesalary  \\\n",
       "0                   127000   Redwood City, CA                1.5    107000.0   \n",
       "1                   100000  San Francisco, CA                5.0         0.0   \n",
       "2                   310000        Seattle, WA                8.0    155000.0   \n",
       "3                   372000      Sunnyvale, CA                7.0    157000.0   \n",
       "4                   157000  Mountain View, CA                5.0         0.0   \n",
       "\n",
       "   stockgrantvalue    bonus  gender      Race          Education  \n",
       "0          20000.0  10000.0  Female     White                PhD  \n",
       "1              0.0      0.0  Female  Hispanic       Some College  \n",
       "2              0.0      0.0  Female     Black  Bachelor's Degree  \n",
       "3         180000.0  35000.0  Female  Hispanic  Bachelor's Degree  \n",
       "4              0.0      0.0  Female  Hispanic       Some College  "
      ]
     },
     "execution_count": 16,
     "metadata": {},
     "output_type": "execute_result"
    }
   ],
   "source": [
    "# Now we fill in the null rows with a random race\n",
    "\n",
    "genders = ['PhD', 'Master\\'s Degree', 'Bachelor\\'s Degree', 'Some College', 'Highschool']\n",
    "\n",
    "db['Education'] = db['Education'].apply(lambda x: random.choice(genders) if pd.isna(x) else x)\n",
    "\n",
    "db.head()\n"
   ]
  },
  {
   "cell_type": "code",
   "execution_count": 17,
   "id": "cae86de9-0e18-4f50-a0df-73587e723266",
   "metadata": {},
   "outputs": [
    {
     "data": {
      "text/plain": [
       "timestamp                    0\n",
       "company                      5\n",
       "level                      119\n",
       "title                        0\n",
       "totalyearlycompensation      0\n",
       "location                     0\n",
       "yearsofexperience            0\n",
       "basesalary                   0\n",
       "stockgrantvalue              0\n",
       "bonus                        0\n",
       "gender                       0\n",
       "Race                         0\n",
       "Education                    0\n",
       "dtype: int64"
      ]
     },
     "execution_count": 17,
     "metadata": {},
     "output_type": "execute_result"
    }
   ],
   "source": [
    "# Finding out how much Nan value left now\n",
    "db.isna().sum()"
   ]
  },
  {
   "cell_type": "markdown",
   "id": "95e40585-4aee-4ea2-909a-8349e5a2c815",
   "metadata": {},
   "source": [
    "Even though some columns such as level still have missing data, the amount is insignificant and therefore there is no need to replace the missing data."
   ]
  },
  {
   "cell_type": "markdown",
   "id": "edcfc945-cc0e-4608-a436-ebd77523af6f",
   "metadata": {},
   "source": [
    "<h2> Exploratory analysis and Data visualization </h2>"
   ]
  },
  {
   "cell_type": "markdown",
   "id": "20e3dbc1-ac29-4431-b04f-1683804531df",
   "metadata": {},
   "source": [
    "This phase of the our project process involves further exploration of the data through visualizations and statistical analyses. The goal is to gain a better understanding of the data and to identify any patterns or trends that may be useful for making interpretations.\n"
   ]
  },
  {
   "cell_type": "markdown",
   "id": "65efd23e-f7c9-404d-968f-45c05b72da25",
   "metadata": {},
   "source": [
    "<h3>I)First, let's determine which states offer the highest salariesfor computer science jobs, and has the highest number of workers.</h3>"
   ]
  },
  {
   "cell_type": "code",
   "execution_count": 18,
   "id": "9f864a0e-7e82-47f9-9cba-88d4b351b86d",
   "metadata": {},
   "outputs": [
    {
     "data": {
      "text/html": [
       "<div>\n",
       "<style scoped>\n",
       "    .dataframe tbody tr th:only-of-type {\n",
       "        vertical-align: middle;\n",
       "    }\n",
       "\n",
       "    .dataframe tbody tr th {\n",
       "        vertical-align: top;\n",
       "    }\n",
       "\n",
       "    .dataframe thead th {\n",
       "        text-align: right;\n",
       "    }\n",
       "</style>\n",
       "<table border=\"1\" class=\"dataframe\">\n",
       "  <thead>\n",
       "    <tr style=\"text-align: right;\">\n",
       "      <th></th>\n",
       "      <th>timestamp</th>\n",
       "      <th>company</th>\n",
       "      <th>level</th>\n",
       "      <th>title</th>\n",
       "      <th>totalyearlycompensation</th>\n",
       "      <th>location</th>\n",
       "      <th>yearsofexperience</th>\n",
       "      <th>basesalary</th>\n",
       "      <th>stockgrantvalue</th>\n",
       "      <th>bonus</th>\n",
       "      <th>gender</th>\n",
       "      <th>Race</th>\n",
       "      <th>Education</th>\n",
       "    </tr>\n",
       "  </thead>\n",
       "  <tbody>\n",
       "    <tr>\n",
       "      <th>0</th>\n",
       "      <td>6/7/2017 11:33:27</td>\n",
       "      <td>Oracle</td>\n",
       "      <td>L3</td>\n",
       "      <td>Product Manager</td>\n",
       "      <td>127000</td>\n",
       "      <td>CA</td>\n",
       "      <td>1.5</td>\n",
       "      <td>107000.0</td>\n",
       "      <td>20000.0</td>\n",
       "      <td>10000.0</td>\n",
       "      <td>Female</td>\n",
       "      <td>White</td>\n",
       "      <td>PhD</td>\n",
       "    </tr>\n",
       "    <tr>\n",
       "      <th>1</th>\n",
       "      <td>6/10/2017 17:11:29</td>\n",
       "      <td>eBay</td>\n",
       "      <td>SE 2</td>\n",
       "      <td>Software Engineer</td>\n",
       "      <td>100000</td>\n",
       "      <td>CA</td>\n",
       "      <td>5.0</td>\n",
       "      <td>0.0</td>\n",
       "      <td>0.0</td>\n",
       "      <td>0.0</td>\n",
       "      <td>Female</td>\n",
       "      <td>Hispanic</td>\n",
       "      <td>Some College</td>\n",
       "    </tr>\n",
       "    <tr>\n",
       "      <th>2</th>\n",
       "      <td>6/11/2017 14:53:57</td>\n",
       "      <td>Amazon</td>\n",
       "      <td>L7</td>\n",
       "      <td>Product Manager</td>\n",
       "      <td>310000</td>\n",
       "      <td>WA</td>\n",
       "      <td>8.0</td>\n",
       "      <td>155000.0</td>\n",
       "      <td>0.0</td>\n",
       "      <td>0.0</td>\n",
       "      <td>Female</td>\n",
       "      <td>Black</td>\n",
       "      <td>Bachelor's Degree</td>\n",
       "    </tr>\n",
       "    <tr>\n",
       "      <th>3</th>\n",
       "      <td>6/17/2017 0:23:14</td>\n",
       "      <td>Apple</td>\n",
       "      <td>M1</td>\n",
       "      <td>Software Engineering Manager</td>\n",
       "      <td>372000</td>\n",
       "      <td>CA</td>\n",
       "      <td>7.0</td>\n",
       "      <td>157000.0</td>\n",
       "      <td>180000.0</td>\n",
       "      <td>35000.0</td>\n",
       "      <td>Female</td>\n",
       "      <td>Hispanic</td>\n",
       "      <td>Bachelor's Degree</td>\n",
       "    </tr>\n",
       "    <tr>\n",
       "      <th>4</th>\n",
       "      <td>6/20/2017 10:58:51</td>\n",
       "      <td>Microsoft</td>\n",
       "      <td>60</td>\n",
       "      <td>Software Engineer</td>\n",
       "      <td>157000</td>\n",
       "      <td>CA</td>\n",
       "      <td>5.0</td>\n",
       "      <td>0.0</td>\n",
       "      <td>0.0</td>\n",
       "      <td>0.0</td>\n",
       "      <td>Female</td>\n",
       "      <td>Hispanic</td>\n",
       "      <td>Some College</td>\n",
       "    </tr>\n",
       "  </tbody>\n",
       "</table>\n",
       "</div>"
      ],
      "text/plain": [
       "            timestamp    company level                         title  \\\n",
       "0   6/7/2017 11:33:27     Oracle    L3               Product Manager   \n",
       "1  6/10/2017 17:11:29       eBay  SE 2             Software Engineer   \n",
       "2  6/11/2017 14:53:57     Amazon    L7               Product Manager   \n",
       "3   6/17/2017 0:23:14      Apple    M1  Software Engineering Manager   \n",
       "4  6/20/2017 10:58:51  Microsoft    60             Software Engineer   \n",
       "\n",
       "   totalyearlycompensation location  yearsofexperience  basesalary  \\\n",
       "0                   127000       CA                1.5    107000.0   \n",
       "1                   100000       CA                5.0         0.0   \n",
       "2                   310000       WA                8.0    155000.0   \n",
       "3                   372000       CA                7.0    157000.0   \n",
       "4                   157000       CA                5.0         0.0   \n",
       "\n",
       "   stockgrantvalue    bonus  gender      Race          Education  \n",
       "0          20000.0  10000.0  Female     White                PhD  \n",
       "1              0.0      0.0  Female  Hispanic       Some College  \n",
       "2              0.0      0.0  Female     Black  Bachelor's Degree  \n",
       "3         180000.0  35000.0  Female  Hispanic  Bachelor's Degree  \n",
       "4              0.0      0.0  Female  Hispanic       Some College  "
      ]
     },
     "execution_count": 18,
     "metadata": {},
     "output_type": "execute_result"
    }
   ],
   "source": [
    "# First we modify the location column to contain only regions inside the United States.\n",
    "\n",
    "us_states = ['AL', 'AK', 'AZ', 'AR', 'CA', 'CO', 'CT', 'DE', 'FL', 'GA', 'HI', 'ID', 'IL', 'IN', 'IA', 'KS', 'KY', 'LA', 'ME', 'MD', 'MA', 'MI', 'MN', 'MS', 'MO', 'MT', 'NE', 'NV', 'NH', 'NJ', 'NM', 'NY', 'NC', 'ND', 'OH', 'OK', 'OR', 'PA', 'RI', 'SC', 'SD', 'TN', 'TX', 'UT', 'VT', 'VA', 'WA', 'WV', 'WI', 'WY']\n",
    "#us_data = df[df['location'].str[-2:].isin(us_states)]\n",
    "\n",
    "for index, row in db.iterrows():\n",
    "    if row['location'][-2:] in us_states:\n",
    "        db.loc[index,'location'] = row['location'][-2:]\n",
    "    else:\n",
    "        db.loc[index,'location'] = np.nan\n",
    "\n",
    "\n",
    "db.head()"
   ]
  },
  {
   "cell_type": "markdown",
   "id": "affe1059-b524-4bd4-96ed-4e258e581c9b",
   "metadata": {},
   "source": [
    "Next, we are finding the average salary per state."
   ]
  },
  {
   "cell_type": "code",
   "execution_count": 19,
   "id": "e97960cf-4419-4113-9f2f-9bab0d5e072e",
   "metadata": {},
   "outputs": [],
   "source": [
    "#gathering information on average salary per state.\n",
    "state_mean_salary = db.groupby('location')['totalyearlycompensation'].mean()\n",
    "\n",
    "#add a new column to out database where the new column contains the average salary per state\n",
    "db = pd.merge(db, state_mean_salary, how='left', left_on='location', right_on='location')\n",
    "db.rename(columns={'totalyearlycompensation_y': 'average_salary'}, inplace=True)\n",
    "\n"
   ]
  },
  {
   "cell_type": "markdown",
   "id": "537408f3-f406-4427-9af5-47e1fda85e13",
   "metadata": {},
   "source": [
    "Let's visualize it through a map of the US to have a better understanding of it.\n",
    "To do so, we need US state geometry data as a GeoDataFrame.That information can be obtained at <a href=https://www.census.gov/geographies/mapping-files/time-series/geo/cartographic-boundary.html>US State Geometry Data</a>"
   ]
  },
  {
   "cell_type": "code",
   "execution_count": 20,
   "id": "18ba25e1-421a-45ce-9aff-7bef845d7643",
   "metadata": {},
   "outputs": [
    {
     "ename": "ModuleNotFoundError",
     "evalue": "No module named 'plotly'",
     "output_type": "error",
     "traceback": [
      "\u001b[0;31m---------------------------------------------------------------------------\u001b[0m",
      "\u001b[0;31mModuleNotFoundError\u001b[0m                       Traceback (most recent call last)",
      "Cell \u001b[0;32mIn[20], line 1\u001b[0m\n\u001b[0;32m----> 1\u001b[0m \u001b[38;5;28;01mimport\u001b[39;00m \u001b[38;5;21;01mplotly\u001b[39;00m\u001b[38;5;21;01m.\u001b[39;00m\u001b[38;5;21;01mexpress\u001b[39;00m \u001b[38;5;28;01mas\u001b[39;00m \u001b[38;5;21;01mpx\u001b[39;00m\n\u001b[1;32m      3\u001b[0m \u001b[38;5;66;03m# Create a Choropleth map using Plotly\u001b[39;00m\n\u001b[1;32m      4\u001b[0m fig \u001b[38;5;241m=\u001b[39m px\u001b[38;5;241m.\u001b[39mchoropleth(db,\n\u001b[1;32m      5\u001b[0m                     locations\u001b[38;5;241m=\u001b[39m \u001b[38;5;124m'\u001b[39m\u001b[38;5;124mlocation\u001b[39m\u001b[38;5;124m'\u001b[39m,\n\u001b[1;32m      6\u001b[0m                     locationmode\u001b[38;5;241m=\u001b[39m\u001b[38;5;124m'\u001b[39m\u001b[38;5;124mUSA-states\u001b[39m\u001b[38;5;124m'\u001b[39m,\n\u001b[0;32m   (...)\u001b[0m\n\u001b[1;32m     13\u001b[0m                     \n\u001b[1;32m     14\u001b[0m                    )\n",
      "\u001b[0;31mModuleNotFoundError\u001b[0m: No module named 'plotly'"
     ]
    }
   ],
   "source": [
    "import plotly.express as px\n",
    "\n",
    "# Create a Choropleth map using Plotly\n",
    "fig = px.choropleth(db,\n",
    "                    locations= 'location',\n",
    "                    locationmode='USA-states',\n",
    "                    scope='usa',\n",
    "                    color='average_salary',\n",
    "                    title='Average Salaries by State',\n",
    "                    color_continuous_scale='Viridis',\n",
    "                    width=1000, height=500\n",
    "                    \n",
    "                    \n",
    "                   )\n",
    "\n",
    "# fig.show()"
   ]
  },
  {
   "cell_type": "markdown",
   "id": "ba535dd8-bb52-4e95-be0a-4dfc6ac2a941",
   "metadata": {},
   "source": [
    "Finding the 15 states that has the highest amount of workers"
   ]
  },
  {
   "cell_type": "code",
   "execution_count": null,
   "id": "01986598-3777-49c8-a617-1548fdcdffff",
   "metadata": {},
   "outputs": [],
   "source": [
    "plt.figure(figsize=(10,8))\n",
    "db[\"location\"].value_counts().iloc[:15].plot(kind=\"bar\", color=\"green\")\n",
    "plt.title(\"Amount of workers per State\", size=17)\n",
    "plt.xlabel(\"States\", size=23)\n",
    "plt.ylabel(\"Amount of Workers\", size=23)\n",
    "plt.xticks(rotation=90)\n",
    "plt.show()\n"
   ]
  },
  {
   "cell_type": "markdown",
   "id": "77a434ac-d26f-476e-9a87-42f95ad24b92",
   "metadata": {},
   "source": [
    "From these 2 visualization, we can cleary see that the highest paying jobs are in the East cost such as in CA and Seattle. It is also were most of those workers are located."
   ]
  },
  {
   "cell_type": "markdown",
   "id": "0a28d576-f036-49b8-8725-4cd7838bf138",
   "metadata": {},
   "source": [
    "<h3>Next, we are going to explore and analyze the data to see how much factores such as education, job title, race and gender, affect their earnings"
   ]
  },
  {
   "cell_type": "markdown",
   "id": "b0483f5a-5222-4128-ade3-360129d24ffc",
   "metadata": {},
   "source": [
    "<h3>A. Education:</h3> To achieve this, we are going to make box plot with the education and total yearly compensation data and see how much people with different education level are earning.\n",
    "    \n"
   ]
  },
  {
   "cell_type": "code",
   "execution_count": null,
   "id": "f24f6ff4-6bf1-4a60-bc77-e013bd643224",
   "metadata": {},
   "outputs": [],
   "source": [
    "import seaborn as sns\n",
    "\n",
    "plt.figure(figsize=(10,10))\n",
    "sns.barplot(x=\"Education\", y=\"totalyearlycompensation_x\", data=db, errorbar=None)\n",
    "plt.title('Salary per education level', fontsize=20)\n",
    "plt.xlabel(\"Education\", size=20)\n",
    "plt.ylabel(\"Salary\", size=23)\n",
    "plt.show()\n",
    "\n"
   ]
  },
  {
   "cell_type": "markdown",
   "id": "ee695ddc-0a71-4cc3-a771-0b44439b2f63",
   "metadata": {},
   "source": [
    "<h4>Observation:</h4>\n",
    "    The plot shows that Ph.D. and Master's degree holders earn the highest salaries, which is expected given the amount of education required to obtain those degrees. However, it is concerning to see that Bachelor's degree holders earn less than those with just some college education or a high school degree. This suggests that having a Bachelor's degree in CS may not necessarily lead to higher earnings compared to those without a degree. As a college student, this is worrying as we invest a significant amount of time and money into obtaining a degree that may not necessarily translate into higher salaries in the field. I"
   ]
  },
  {
   "cell_type": "markdown",
   "id": "01c20e12-11a0-417e-8884-850950d8c6a8",
   "metadata": {},
   "source": [
    "<h3>Race</h3>"
   ]
  },
  {
   "cell_type": "code",
   "execution_count": null,
   "id": "6abc3a9a-456e-48a3-b751-7daeadce881c",
   "metadata": {},
   "outputs": [],
   "source": [
    "plt.figure(figsize=(12,10))\n",
    "sns.barplot(x=\"Race\", y=\"totalyearlycompensation_x\", data=db, errorbar=None)\n",
    "plt.title('Salary according to race', fontsize=20)\n",
    "plt.xlabel(\"Education\", size=20)\n",
    "plt.ylabel(\"Salary\", size=30)\n",
    "plt.show()"
   ]
  },
  {
   "cell_type": "markdown",
   "id": "a55eb365-c5c6-445f-a051-c679d645ea7d",
   "metadata": {},
   "source": [
    "<h4>Observation:</h4>\n",
    "Even though black people seems to earn little less compared to the others, there is overall no big disparity between differnt races."
   ]
  },
  {
   "cell_type": "markdown",
   "id": "de968878-44a4-47c0-8163-cc88ec4d0f4d",
   "metadata": {},
   "source": [
    "<h3>Gender</h3>\n"
   ]
  },
  {
   "cell_type": "code",
   "execution_count": null,
   "id": "4aebf051-341a-4e92-9999-8a03d3b1de64",
   "metadata": {},
   "outputs": [],
   "source": [
    "plt.figure(figsize=(12,10))\n",
    "sns.barplot(x=\"gender\", y=\"totalyearlycompensation_x\", data=db, errorbar=None)\n",
    "plt.title('Salary according to gender', fontsize=30)\n",
    "plt.xlabel(\"Education\", size=20)\n",
    "plt.ylabel(\"Salary\", size=23)\n",
    "plt.show()"
   ]
  },
  {
   "cell_type": "markdown",
   "id": "0359e32c-6496-48ef-bb39-3104ef6dd5a9",
   "metadata": {},
   "source": [
    "<h4>Observation:</h4>There is not much disparity between different gender in the tech field. However, there is a lot more male than female in the sector."
   ]
  },
  {
   "cell_type": "code",
   "execution_count": null,
   "id": "245bcb7a-a88d-44c3-9e54-835c11de9540",
   "metadata": {},
   "outputs": [],
   "source": [
    "db.corr()"
   ]
  },
  {
   "cell_type": "code",
   "execution_count": null,
   "id": "84debcd3-daa8-43e8-a4bf-9c75f75081e1",
   "metadata": {},
   "outputs": [],
   "source": [
    "db[\"timestamp\"] = pd.to_datetime(db[\"timestamp\"]).dt.date\n",
    "db[\"year\"] = pd.DatetimeIndex(db['timestamp']).year\n",
    "db[\"year\"].value_counts()\n",
    "px.histogram(db, x = \"year\", color = \"gender\" ,barmode = \"group\",title=\"Amount of Worker per Gender\"\n",
    "            ,labels = {\"year\":\"Year\",\"gender\":\"Gender\"})"
   ]
  },
  {
   "cell_type": "markdown",
   "id": "a5db6b0e-58f8-442e-a89e-b390c2fb3b9e",
   "metadata": {},
   "source": [
    "<h2>Hypothesis Testing, & Machine Learning</h2>\n"
   ]
  },
  {
   "cell_type": "markdown",
   "id": "8fa33515-84ef-4d08-b74f-54ce6887b7f3",
   "metadata": {},
   "source": [
    "We want to determine if there is a significant difference in the salaries of people with a Master's degree versus those with a Bachelor's degree. Our null hypothesis is that there is no significant difference in salaries between people who have a Master's degree and those who have a Bachelor's degree. The alternative hypothesis is that there is a significant difference in salaries between them.\n",
    "\n",
    "To do so, we will find the t-statistic, which is a measure of the difference between two groups' means relative to the variation within the group, and the p-value, which is a probability value that measures the evidence against the null hypothesis."
   ]
  },
  {
   "cell_type": "code",
   "execution_count": null,
   "id": "0a495ecf-a219-4004-a233-c1316e6cb8d0",
   "metadata": {},
   "outputs": [],
   "source": [
    "\n",
    "from scipy import stats\n",
    "#Getting the rows containing people with Master and Bachelor degrees\n",
    "master=db[db['Education'] =='Master\\'s Degree']\n",
    "bachelor=db[db['Education'] =='Bachelor\\'s Degree']\n",
    "\n",
    "# Computing the mean salary for each group\n",
    "mean_master = master['totalyearlycompensation_x'].mean()\n",
    "mean_bachelor= bachelor['totalyearlycompensation_x'].mean()\n",
    "\n",
    "# Compute the variance and sample size for each group\n",
    "var_master=master['totalyearlycompensation_x'].var()\n",
    "size_master=master['totalyearlycompensation_x'].count()\n",
    "\n",
    "var_bachelor=bachelor['totalyearlycompensation_x'].var()\n",
    "size_bachelor=bachelor['totalyearlycompensation_x'].count()\n",
    "\n",
    "# Find the t-statistic\n",
    "t= (mean_master - mean_bachelor)/((var_master/size_master) +(var_bachelor/ size_bachelor)) **0.5\n",
    "\n",
    "# Finding the degree of freedon\n",
    "df=size_master + size_bachelor -2\n",
    "\n",
    "# Calculate the p-value\n",
    "p_value= stats.t.sf(abs(t), df) *2\n",
    "\n",
    "\n",
    "print('Average Master Salary:', mean_master)\n",
    "print('Average Bachelor Salary:', mean_bachelor)\n",
    "print('Variance Master :', var_master)\n",
    "print('Variance Bachelor Salary:', var_bachelor)\n",
    "print('Number of Master holder:', size_master)\n",
    "print('Number of Bachelor holder:', size_bachelor)\n",
    "print('T-statistic is:', t)\n",
    "print('The p_value is:', p_value)\n",
    "\n",
    "\n"
   ]
  },
  {
   "cell_type": "markdown",
   "id": "df7a5298-3ec0-462f-a2f3-93c71b324b05",
   "metadata": {},
   "source": [
    "Based on the results, we can conclude that there is a significant difference in the average salary between Master's degree holders and Bachelor's degree holders in the given dataset. The t-statistic is 21.60 and the p-value is 6.70e-103, which is much lower than the significance level of 0.05. This means that we can reject the null hypothesis that there is no significant difference in the average salary between the two groups, and we can conclude that there is a significant difference in the average salary between the two groups. Furthermore, the average salary for Master's degree holders is higher than that of Bachelor's degree holders in the given dataset."
   ]
  },
  {
   "cell_type": "markdown",
   "id": "603ad65e-e1f3-440b-8021-edf2d5ed6bcb",
   "metadata": {},
   "source": [
    "<h2>Machine Learning</h2>\n",
    "Here,We will use machine learning algorithm more specifically linear regression to predict salary of sofware engenier salary based on their years of experience. \n",
    "Linear regression is a machine learning algorithm that tries to find a linear relationship between the input features and the target variable. In our case, the input feature is years of experience and the target variable is salary."
   ]
  },
  {
   "cell_type": "markdown",
   "id": "c5f591f5-535a-489a-a42b-0c4ae66d6a12",
   "metadata": {},
   "source": [
    "First, let's preprocess the data"
   ]
  },
  {
   "cell_type": "code",
   "execution_count": 42,
   "id": "b7991e53-12d8-4a67-97d7-b5a2e62eff13",
   "metadata": {},
   "outputs": [
    {
     "data": {
      "text/html": [
       "<div>\n",
       "<style scoped>\n",
       "    .dataframe tbody tr th:only-of-type {\n",
       "        vertical-align: middle;\n",
       "    }\n",
       "\n",
       "    .dataframe tbody tr th {\n",
       "        vertical-align: top;\n",
       "    }\n",
       "\n",
       "    .dataframe thead th {\n",
       "        text-align: right;\n",
       "    }\n",
       "</style>\n",
       "<table border=\"1\" class=\"dataframe\">\n",
       "  <thead>\n",
       "    <tr style=\"text-align: right;\">\n",
       "      <th></th>\n",
       "      <th>timestamp</th>\n",
       "      <th>company</th>\n",
       "      <th>level</th>\n",
       "      <th>title</th>\n",
       "      <th>totalyearlycompensation_x</th>\n",
       "      <th>location</th>\n",
       "      <th>yearsofexperience</th>\n",
       "      <th>basesalary</th>\n",
       "      <th>stockgrantvalue</th>\n",
       "      <th>bonus</th>\n",
       "      <th>gender</th>\n",
       "      <th>Race</th>\n",
       "      <th>Education</th>\n",
       "      <th>average_salary</th>\n",
       "    </tr>\n",
       "  </thead>\n",
       "  <tbody>\n",
       "    <tr>\n",
       "      <th>0</th>\n",
       "      <td>6/7/2017 11:33:27</td>\n",
       "      <td>Oracle</td>\n",
       "      <td>L3</td>\n",
       "      <td>Product Manager</td>\n",
       "      <td>127000</td>\n",
       "      <td>CA</td>\n",
       "      <td>1.5</td>\n",
       "      <td>107000.0</td>\n",
       "      <td>20000.0</td>\n",
       "      <td>10000.0</td>\n",
       "      <td>Female</td>\n",
       "      <td>White</td>\n",
       "      <td>PhD</td>\n",
       "      <td>271510.756222</td>\n",
       "    </tr>\n",
       "    <tr>\n",
       "      <th>1</th>\n",
       "      <td>6/10/2017 17:11:29</td>\n",
       "      <td>eBay</td>\n",
       "      <td>SE 2</td>\n",
       "      <td>Software Engineer</td>\n",
       "      <td>100000</td>\n",
       "      <td>CA</td>\n",
       "      <td>5.0</td>\n",
       "      <td>0.0</td>\n",
       "      <td>0.0</td>\n",
       "      <td>0.0</td>\n",
       "      <td>Female</td>\n",
       "      <td>Hispanic</td>\n",
       "      <td>Some College</td>\n",
       "      <td>271510.756222</td>\n",
       "    </tr>\n",
       "    <tr>\n",
       "      <th>2</th>\n",
       "      <td>6/11/2017 14:53:57</td>\n",
       "      <td>Amazon</td>\n",
       "      <td>L7</td>\n",
       "      <td>Product Manager</td>\n",
       "      <td>310000</td>\n",
       "      <td>WA</td>\n",
       "      <td>8.0</td>\n",
       "      <td>155000.0</td>\n",
       "      <td>0.0</td>\n",
       "      <td>0.0</td>\n",
       "      <td>Female</td>\n",
       "      <td>Black</td>\n",
       "      <td>Bachelor's Degree</td>\n",
       "      <td>245112.414474</td>\n",
       "    </tr>\n",
       "    <tr>\n",
       "      <th>3</th>\n",
       "      <td>6/17/2017 0:23:14</td>\n",
       "      <td>Apple</td>\n",
       "      <td>M1</td>\n",
       "      <td>Software Engineering Manager</td>\n",
       "      <td>372000</td>\n",
       "      <td>CA</td>\n",
       "      <td>7.0</td>\n",
       "      <td>157000.0</td>\n",
       "      <td>180000.0</td>\n",
       "      <td>35000.0</td>\n",
       "      <td>Female</td>\n",
       "      <td>Hispanic</td>\n",
       "      <td>Bachelor's Degree</td>\n",
       "      <td>271510.756222</td>\n",
       "    </tr>\n",
       "    <tr>\n",
       "      <th>4</th>\n",
       "      <td>6/20/2017 10:58:51</td>\n",
       "      <td>Microsoft</td>\n",
       "      <td>60</td>\n",
       "      <td>Software Engineer</td>\n",
       "      <td>157000</td>\n",
       "      <td>CA</td>\n",
       "      <td>5.0</td>\n",
       "      <td>0.0</td>\n",
       "      <td>0.0</td>\n",
       "      <td>0.0</td>\n",
       "      <td>Female</td>\n",
       "      <td>Hispanic</td>\n",
       "      <td>Some College</td>\n",
       "      <td>271510.756222</td>\n",
       "    </tr>\n",
       "  </tbody>\n",
       "</table>\n",
       "</div>"
      ],
      "text/plain": [
       "            timestamp    company level                         title  \\\n",
       "0   6/7/2017 11:33:27     Oracle    L3               Product Manager   \n",
       "1  6/10/2017 17:11:29       eBay  SE 2             Software Engineer   \n",
       "2  6/11/2017 14:53:57     Amazon    L7               Product Manager   \n",
       "3   6/17/2017 0:23:14      Apple    M1  Software Engineering Manager   \n",
       "4  6/20/2017 10:58:51  Microsoft    60             Software Engineer   \n",
       "\n",
       "   totalyearlycompensation_x location  yearsofexperience  basesalary  \\\n",
       "0                     127000       CA                1.5    107000.0   \n",
       "1                     100000       CA                5.0         0.0   \n",
       "2                     310000       WA                8.0    155000.0   \n",
       "3                     372000       CA                7.0    157000.0   \n",
       "4                     157000       CA                5.0         0.0   \n",
       "\n",
       "   stockgrantvalue    bonus  gender      Race          Education  \\\n",
       "0          20000.0  10000.0  Female     White                PhD   \n",
       "1              0.0      0.0  Female  Hispanic       Some College   \n",
       "2              0.0      0.0  Female     Black  Bachelor's Degree   \n",
       "3         180000.0  35000.0  Female  Hispanic  Bachelor's Degree   \n",
       "4              0.0      0.0  Female  Hispanic       Some College   \n",
       "\n",
       "   average_salary  \n",
       "0   271510.756222  \n",
       "1   271510.756222  \n",
       "2   245112.414474  \n",
       "3   271510.756222  \n",
       "4   271510.756222  "
      ]
     },
     "execution_count": 48,
     "metadata": {},
     "output_type": "execute_result"
    }
   ],
   "source": [
    "# filter the dataset for software engineer job titles\n",
    "db_sw= db[db['title'] == 'Software Engineer']\n",
    "\n",
    "# Only keeping columns that we will use for the algorithm\n",
    "db_sw= db_sw[['yearsofexperience','totalyearlycompensation_x']]\n",
    "\n",
    "db['title'].unique()"
   ]
  },
  {
   "cell_type": "markdown",
   "id": "da8b956d-a0ee-403b-ab31-664634cc5aa8",
   "metadata": {},
   "source": [
    "Next, we need to split the data into training and testing sets "
   ]
  },
  {
   "cell_type": "code",
   "execution_count": 49,
   "id": "ce80b3f6-adb1-49d8-882b-18450860f67f",
   "metadata": {},
   "outputs": [],
   "source": [
    "from sklearn.model_selection import train_test_split\n",
    "\n",
    "X = db_sw[['yearsofexperience']]\n",
    "y= db_sw['totalyearlycompensation_x']\n",
    "\n",
    "# calling the function that split the data\n",
    "X_train, X_test, y_train, y_test = train_test_split(X, y, test_size=0.3, random_state=42)"
   ]
  },
  {
   "cell_type": "markdown",
   "id": "ac75915d-36aa-422b-9ad1-08560deea59b",
   "metadata": {},
   "source": [
    "After that, we are going to train the linear regression model on the training data"
   ]
  },
  {
   "cell_type": "code",
   "execution_count": 39,
   "id": "75c7ed9d-9a73-4dfb-a9e8-9352b6280fef",
   "metadata": {},
   "outputs": [
    {
     "data": {
      "text/html": [
       "<style>#sk-container-id-3 {color: black;background-color: white;}#sk-container-id-3 pre{padding: 0;}#sk-container-id-3 div.sk-toggleable {background-color: white;}#sk-container-id-3 label.sk-toggleable__label {cursor: pointer;display: block;width: 100%;margin-bottom: 0;padding: 0.3em;box-sizing: border-box;text-align: center;}#sk-container-id-3 label.sk-toggleable__label-arrow:before {content: \"▸\";float: left;margin-right: 0.25em;color: #696969;}#sk-container-id-3 label.sk-toggleable__label-arrow:hover:before {color: black;}#sk-container-id-3 div.sk-estimator:hover label.sk-toggleable__label-arrow:before {color: black;}#sk-container-id-3 div.sk-toggleable__content {max-height: 0;max-width: 0;overflow: hidden;text-align: left;background-color: #f0f8ff;}#sk-container-id-3 div.sk-toggleable__content pre {margin: 0.2em;color: black;border-radius: 0.25em;background-color: #f0f8ff;}#sk-container-id-3 input.sk-toggleable__control:checked~div.sk-toggleable__content {max-height: 200px;max-width: 100%;overflow: auto;}#sk-container-id-3 input.sk-toggleable__control:checked~label.sk-toggleable__label-arrow:before {content: \"▾\";}#sk-container-id-3 div.sk-estimator input.sk-toggleable__control:checked~label.sk-toggleable__label {background-color: #d4ebff;}#sk-container-id-3 div.sk-label input.sk-toggleable__control:checked~label.sk-toggleable__label {background-color: #d4ebff;}#sk-container-id-3 input.sk-hidden--visually {border: 0;clip: rect(1px 1px 1px 1px);clip: rect(1px, 1px, 1px, 1px);height: 1px;margin: -1px;overflow: hidden;padding: 0;position: absolute;width: 1px;}#sk-container-id-3 div.sk-estimator {font-family: monospace;background-color: #f0f8ff;border: 1px dotted black;border-radius: 0.25em;box-sizing: border-box;margin-bottom: 0.5em;}#sk-container-id-3 div.sk-estimator:hover {background-color: #d4ebff;}#sk-container-id-3 div.sk-parallel-item::after {content: \"\";width: 100%;border-bottom: 1px solid gray;flex-grow: 1;}#sk-container-id-3 div.sk-label:hover label.sk-toggleable__label {background-color: #d4ebff;}#sk-container-id-3 div.sk-serial::before {content: \"\";position: absolute;border-left: 1px solid gray;box-sizing: border-box;top: 0;bottom: 0;left: 50%;z-index: 0;}#sk-container-id-3 div.sk-serial {display: flex;flex-direction: column;align-items: center;background-color: white;padding-right: 0.2em;padding-left: 0.2em;position: relative;}#sk-container-id-3 div.sk-item {position: relative;z-index: 1;}#sk-container-id-3 div.sk-parallel {display: flex;align-items: stretch;justify-content: center;background-color: white;position: relative;}#sk-container-id-3 div.sk-item::before, #sk-container-id-3 div.sk-parallel-item::before {content: \"\";position: absolute;border-left: 1px solid gray;box-sizing: border-box;top: 0;bottom: 0;left: 50%;z-index: -1;}#sk-container-id-3 div.sk-parallel-item {display: flex;flex-direction: column;z-index: 1;position: relative;background-color: white;}#sk-container-id-3 div.sk-parallel-item:first-child::after {align-self: flex-end;width: 50%;}#sk-container-id-3 div.sk-parallel-item:last-child::after {align-self: flex-start;width: 50%;}#sk-container-id-3 div.sk-parallel-item:only-child::after {width: 0;}#sk-container-id-3 div.sk-dashed-wrapped {border: 1px dashed gray;margin: 0 0.4em 0.5em 0.4em;box-sizing: border-box;padding-bottom: 0.4em;background-color: white;}#sk-container-id-3 div.sk-label label {font-family: monospace;font-weight: bold;display: inline-block;line-height: 1.2em;}#sk-container-id-3 div.sk-label-container {text-align: center;}#sk-container-id-3 div.sk-container {/* jupyter's `normalize.less` sets `[hidden] { display: none; }` but bootstrap.min.css set `[hidden] { display: none !important; }` so we also need the `!important` here to be able to override the default hidden behavior on the sphinx rendered scikit-learn.org. See: https://github.com/scikit-learn/scikit-learn/issues/21755 */display: inline-block !important;position: relative;}#sk-container-id-3 div.sk-text-repr-fallback {display: none;}</style><div id=\"sk-container-id-3\" class=\"sk-top-container\"><div class=\"sk-text-repr-fallback\"><pre>LinearRegression()</pre><b>In a Jupyter environment, please rerun this cell to show the HTML representation or trust the notebook. <br />On GitHub, the HTML representation is unable to render, please try loading this page with nbviewer.org.</b></div><div class=\"sk-container\" hidden><div class=\"sk-item\"><div class=\"sk-estimator sk-toggleable\"><input class=\"sk-toggleable__control sk-hidden--visually\" id=\"sk-estimator-id-3\" type=\"checkbox\" checked><label for=\"sk-estimator-id-3\" class=\"sk-toggleable__label sk-toggleable__label-arrow\">LinearRegression</label><div class=\"sk-toggleable__content\"><pre>LinearRegression()</pre></div></div></div></div></div>"
      ],
      "text/plain": [
       "LinearRegression()"
      ]
     },
     "execution_count": 45,
     "metadata": {},
     "output_type": "execute_result"
    }
   ],
   "source": [
    "from sklearn.linear_model import LinearRegression\n",
    "model = LinearRegression()\n",
    "model.fit(X_train, y_train)"
   ]
  },
  {
   "cell_type": "markdown",
   "id": "6236ca21-d366-4925-930b-d815ff806f85",
   "metadata": {},
   "source": [
    "Finally, we can evaluate the model on our testing data"
   ]
  },
  {
   "cell_type": "code",
   "execution_count": 50,
   "id": "0a69ac56-8a71-4cda-9362-ff66d4ccc874",
   "metadata": {},
   "outputs": [
    {
     "name": "stdout",
     "output_type": "stream",
     "text": [
      "Mean Squared Error: 10802496166.974339\n",
      "R-squared: 0.13040067914453723\n"
     ]
    }
   ],
   "source": [
    "# Predict the salaries for the testing data\n",
    "y_pred = model.predict(X_test)\n",
    "\n",
    "# Evaluate the performance of the model\n",
    "from sklearn.metrics import mean_squared_error, r2_score\n",
    "\n",
    "mse = mean_squared_error(y_test, y_pred)\n",
    "r2 = r2_score(y_test, y_pred)\n",
    "\n",
    "print('Mean Squared Error:', mse)\n",
    "print('R-squared:', r2)"
   ]
  },
  {
   "cell_type": "markdown",
   "id": "1419a3a8-0447-409e-bab3-3551e4152fc5",
   "metadata": {},
   "source": [
    "<h2>These numbers are off. I will check with  a TA tomorrow </h2>\n",
    "The Mean Squared Error (MSE) measures the average squared difference between the actual and predicted values of the target variable. In this case, the MSE value of 12332463315.888311 means that on average, the model's predicted salary values are off by around 3.51 million dollars (since the target variable is measured in dollars^2).\n",
    "\n",
    "The R-squared value of 0.15070977441218159 means that the model explains only 15.07% of the total variance in the target variable. In other words, the model's predictions are not very accurate and are not able to capture most of the variability in the target variable. This suggests that the model may not be a good fit for the data, and that more sophisticated machine learning algorithms or feature engineering may be necessary to obtain more accurate predictions."
   ]
  },
  {
   "cell_type": "code",
   "execution_count": 51,
   "id": "9d5538e9-b2c1-4133-ba29-eeda0917cbcd",
   "metadata": {},
   "outputs": [
    {
     "data": {
      "image/png": "[encoded data removed]",
      "text/plain": [
       "<Figure size 640x480 with 1 Axes>"
      ]
     },
     "metadata": {},
     "output_type": "display_data"
    }
   ],
   "source": [
    "# Visualize the data and the linear regression line\n",
    "plt.scatter(X_test, y_test)\n",
    "plt.plot(X_test, y_pred, color='red')\n",
    "plt.xlabel('Years of Experience')\n",
    "plt.ylabel('Total Yearly Compensation')\n",
    "plt.show()"
   ]
  }
 ],
 "metadata": {
  "kernelspec": {
   "display_name": "Python 3 (ipykernel)",
   "language": "python",
   "name": "python3"
  },
  "language_info": {
   "codemirror_mode": {
    "name": "ipython",
    "version": 3
   },
   "file_extension": ".py",
   "mimetype": "text/x-python",
   "name": "python",
   "nbconvert_exporter": "python",
   "pygments_lexer": "ipython3",
   "version": "3.10.8"
  }
 },
 "nbformat": 4,
 "nbformat_minor": 5
}
